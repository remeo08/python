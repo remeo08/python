{
 "cells": [
  {
   "attachments": {},
   "cell_type": "markdown",
   "metadata": {},
   "source": [
    "## 파이썬 자료형\n",
    "- 숫자형 (Number)\n",
    "- 문자형 (String)\n",
    "- 리스트 (List)\n",
    "- 튜플형 (Tuple), 딕셔너리형 (Dict), 집합형(Set)\n",
    "- 불형 (Bull)\n",
    "\n",
    "* 자료를 담는 그릇"
   ]
  },
  {
   "attachments": {},
   "cell_type": "markdown",
   "metadata": {},
   "source": [
    "### 숫자형"
   ]
  },
  {
   "cell_type": "code",
   "execution_count": 4,
   "metadata": {},
   "outputs": [
    {
     "data": {
      "text/plain": [
       "float"
      ]
     },
     "execution_count": 4,
     "metadata": {},
     "output_type": "execute_result"
    }
   ],
   "source": [
    "# a = 1   # int\n",
    "a = 1.0   # float\n",
    "type(a)"
   ]
  },
  {
   "cell_type": "code",
   "execution_count": 6,
   "metadata": {},
   "outputs": [
    {
     "name": "stdout",
     "output_type": "stream",
     "text": [
      "11\n",
      "-9\n",
      "10\n",
      "0.1\n"
     ]
    }
   ],
   "source": [
    "a = 1\n",
    "b = 10\n",
    "print(a + b)\n",
    "print(a - b)\n",
    "print(a * b)\n",
    "print(a / b)"
   ]
  },
  {
   "attachments": {},
   "cell_type": "markdown",
   "metadata": {},
   "source": [
    "### 문자형 (String)\n",
    "- 쌍 따옴표(\") 또는 작은 따옴표(')로 감싸져 있는 형태"
   ]
  },
  {
   "cell_type": "code",
   "execution_count": 7,
   "metadata": {},
   "outputs": [
    {
     "data": {
      "text/plain": [
       "str"
      ]
     },
     "execution_count": 7,
     "metadata": {},
     "output_type": "execute_result"
    }
   ],
   "source": [
    "a = 'python'\n",
    "type(a)   # type() 변수의 타입을 리턴"
   ]
  },
  {
   "cell_type": "code",
   "execution_count": 12,
   "metadata": {},
   "outputs": [
    {
     "name": "stdout",
     "output_type": "stream",
     "text": [
      "Act as though\n",
      "it is impossible to fail\n",
      "Act as though\n",
      "it is impossible to fail\n"
     ]
    }
   ],
   "source": [
    "word = \"Act as though\\nit is impossible to fail\"\n",
    "print(word)\n",
    "\n",
    "# 따옴표*3\n",
    "word2 = \"\"\"Act as though\n",
    "it is impossible to fail\"\"\"\n",
    "print(word2)"
   ]
  },
  {
   "cell_type": "code",
   "execution_count": 15,
   "metadata": {},
   "outputs": [
    {
     "data": {
      "text/plain": [
       "\"It's kind of fun to do the impossible\""
      ]
     },
     "execution_count": 15,
     "metadata": {},
     "output_type": "execute_result"
    }
   ],
   "source": [
    "word = 'It\\'s kind of fun to do the impossible'   # 작은 따옴표 안에 it's 작은 따옴표를 만나면 문자열 종료됨. it's 그대로 나오려면 \\ 앞에 넣기\n",
    "word"
   ]
  },
  {
   "cell_type": "code",
   "execution_count": 22,
   "metadata": {},
   "outputs": [
    {
     "name": "stdout",
     "output_type": "stream",
     "text": [
      "\"Failure is simply the opportunity to begin again.\" he says.\"\n",
      "\"Failure is simply the opportunity to begin again.\" he says.\"\n",
      "\"Failure is simply the opportunity to begin again.\" he says.\"\n"
     ]
    }
   ],
   "source": [
    "a = \"\"\"\"Failure is simply the opportunity to begin again.\" he says.\"\"\"\n",
    "# (1) 작은 따옴표\n",
    "a = '\"Failure is simply the opportunity to begin again.\" he says.\"'\n",
    "print(a)\n",
    "# (2) 백 슬래쉬\n",
    "a = \"\\\"Failure is simply the opportunity to begin again.\\\" he says.\\\"\"\n",
    "print(a)\n",
    "# (3) \"\"\"\n",
    "a = '''\"Failure is simply the opportunity to begin again.\" he says.\"'''\n",
    "print(a)"
   ]
  },
  {
   "cell_type": "code",
   "execution_count": 27,
   "metadata": {},
   "outputs": [
    {
     "data": {
      "text/plain": [
       "'LIFELIFELIFELIFELIFELIFELIFELIFELIFELIFE'"
      ]
     },
     "execution_count": 27,
     "metadata": {},
     "output_type": "execute_result"
    }
   ],
   "source": [
    "a = \"L\"\n",
    "b = \"I\"\n",
    "c = \"F\"\n",
    "d = \"E\"\n",
    "\n",
    "(a+b+c+d)*10    # 문자열은 더하기와 곱하기만 가능"
   ]
  },
  {
   "cell_type": "code",
   "execution_count": 28,
   "metadata": {},
   "outputs": [
    {
     "data": {
      "text/plain": [
       "6"
      ]
     },
     "execution_count": 28,
     "metadata": {},
     "output_type": "execute_result"
    }
   ],
   "source": [
    "len(\"python\")   # 문자열의 길이값을 리턴"
   ]
  },
  {
   "cell_type": "code",
   "execution_count": 42,
   "metadata": {},
   "outputs": [
    {
     "data": {
      "text/plain": [
       "'python!'"
      ]
     },
     "execution_count": 42,
     "metadata": {},
     "output_type": "execute_result"
    }
   ],
   "source": [
    "# 문자열 indexing & slicing\n",
    "# python의 문자는 항상 0부터 시작\n",
    "a = \"hello python!\"\n",
    "a[0]\n",
    "a[-1]\n",
    "\n",
    "a[0:5]   # 0 <= x < 4  , 0은 생략가능\n",
    "# a[:5]\n",
    "a[6:]"
   ]
  },
  {
   "cell_type": "code",
   "execution_count": 50,
   "metadata": {},
   "outputs": [
    {
     "data": {
      "text/plain": [
       "('Titanic', 'James')"
      ]
     },
     "execution_count": 50,
     "metadata": {},
     "output_type": "execute_result"
    }
   ],
   "source": [
    "str = \"TitanicJames\"\n",
    "title = str[:7]\n",
    "director = str[7:]\n",
    "title, director"
   ]
  },
  {
   "attachments": {},
   "cell_type": "markdown",
   "metadata": {},
   "source": [
    "## 리스트형(List)\n",
    "- 여러 개의 변수를 함번에 담아둘 수는 없을까?"
   ]
  },
  {
   "cell_type": "code",
   "execution_count": 3,
   "metadata": {},
   "outputs": [
    {
     "data": {
      "text/plain": [
       "[1, 2, 3, 4, 5]"
      ]
     },
     "execution_count": 3,
     "metadata": {},
     "output_type": "execute_result"
    }
   ],
   "source": [
    "x = [1,2,3,4,5]\n",
    "type(x)\n",
    "\n",
    "# indexing, slicing\n",
    "x[0:3]\n",
    "x[:]"
   ]
  },
  {
   "cell_type": "code",
   "execution_count": 6,
   "metadata": {},
   "outputs": [
    {
     "data": {
      "text/plain": [
       "'e'"
      ]
     },
     "execution_count": 6,
     "metadata": {},
     "output_type": "execute_result"
    }
   ],
   "source": [
    "x = [\"a\", 'b', 'c',['d','e']]\n",
    "x[3][1]   # 리스트 안의 리스트 가져오는 법"
   ]
  },
  {
   "attachments": {},
   "cell_type": "markdown",
   "metadata": {},
   "source": [
    "### 튜플형(Tuple)"
   ]
  },
  {
   "cell_type": "code",
   "execution_count": 7,
   "metadata": {},
   "outputs": [
    {
     "data": {
      "text/plain": [
       "tuple"
      ]
     },
     "execution_count": 7,
     "metadata": {},
     "output_type": "execute_result"
    }
   ],
   "source": [
    "t=(1,2,3,(4,5,))\n",
    "type(t)"
   ]
  },
  {
   "attachments": {},
   "cell_type": "markdown",
   "metadata": {},
   "source": [
    "### 딕셔너리형(Dict)\n",
    "- {} 중괄호로 감싸져 있고, 키와 벨류로 구성되어 있다."
   ]
  },
  {
   "cell_type": "code",
   "execution_count": 11,
   "metadata": {},
   "outputs": [
    {
     "data": {
      "text/plain": [
       "'Ulsan'"
      ]
     },
     "execution_count": 11,
     "metadata": {},
     "output_type": "execute_result"
    }
   ],
   "source": [
    "x = {\"key\" : \"value\", 'name':'jiyun','age':24, 'city':['Seoul', 'Ulsan']}\n",
    "type(x)\n",
    "x['city'][1]"
   ]
  },
  {
   "attachments": {},
   "cell_type": "markdown",
   "metadata": {},
   "source": [
    "### 집합형(Set)\n",
    "- 순서가 없다\n",
    "- 중복을 허용하지 않는다."
   ]
  },
  {
   "cell_type": "code",
   "execution_count": 12,
   "metadata": {},
   "outputs": [
    {
     "data": {
      "text/plain": [
       "{'a', 'b', 'c'}"
      ]
     },
     "execution_count": 12,
     "metadata": {},
     "output_type": "execute_result"
    }
   ],
   "source": [
    "x=set([5,2,1,1,1,1,1,1,7,7])\n",
    "type(x)\n",
    "\n",
    "x = set([\"a\",\"b\",\"c\",\"b\"])\n",
    "x"
   ]
  },
  {
   "attachments": {},
   "cell_type": "markdown",
   "metadata": {},
   "source": [
    "### 불형(Boolean)"
   ]
  },
  {
   "cell_type": "code",
   "execution_count": 14,
   "metadata": {},
   "outputs": [
    {
     "data": {
      "text/plain": [
       "bool"
      ]
     },
     "execution_count": 14,
     "metadata": {},
     "output_type": "execute_result"
    }
   ],
   "source": [
    "type(True)\n",
    "type(1 < 2)"
   ]
  },
  {
   "attachments": {},
   "cell_type": "markdown",
   "metadata": {},
   "source": [
    "## 제어문\n",
    "- if (조건문)\n",
    "- for (반복문)\n",
    "- while (반복문)"
   ]
  },
  {
   "attachments": {},
   "cell_type": "markdown",
   "metadata": {},
   "source": [
    "### if 조건문"
   ]
  },
  {
   "cell_type": "code",
   "execution_count": 17,
   "metadata": {},
   "outputs": [
    {
     "name": "stdout",
     "output_type": "stream",
     "text": [
      "5보다 크다\n"
     ]
    }
   ],
   "source": [
    "number = int(input(\"숫자를 입력하세요: \"))\n",
    "\n",
    "if number < 2:\n",
    "    print(\"2보다 작다\")\n",
    "elif number < 5:\n",
    "    print('5보다 작다')\n",
    "else:\n",
    "    print(\"5보다 크다\")"
   ]
  },
  {
   "cell_type": "code",
   "execution_count": 22,
   "metadata": {},
   "outputs": [
    {
     "name": "stdout",
     "output_type": "stream",
     "text": [
      "걸어 가라.\n"
     ]
    }
   ],
   "source": [
    "money = int(input(\"얼마 있으신가요?\"))\n",
    "\n",
    "if money >= 70000:\n",
    "    print(\"비행기 타라.\")\n",
    "elif money >= 50000:\n",
    "    print(\"기차 타라.\") \n",
    "elif money >= 30000:\n",
    "    print(\"버스 타라.\")\n",
    "else:\n",
    "    print(\"걸어 가라.\")"
   ]
  },
  {
   "attachments": {},
   "cell_type": "markdown",
   "metadata": {},
   "source": [
    "### 반복문 (for, while)"
   ]
  },
  {
   "cell_type": "code",
   "execution_count": 26,
   "metadata": {},
   "outputs": [
    {
     "name": "stdout",
     "output_type": "stream",
     "text": [
      "hello python 0\n",
      "hello python 1\n",
      "hello python 2\n",
      "hello python 3\n",
      "hello python 4\n",
      "hello python 5\n",
      "hello python 6\n",
      "hello python 7\n",
      "hello python 8\n",
      "hello python 9\n"
     ]
    }
   ],
   "source": [
    "for i in range(10):   # 0~9\n",
    "    print(\"hello python\", i)"
   ]
  },
  {
   "cell_type": "code",
   "execution_count": 29,
   "metadata": {},
   "outputs": [
    {
     "name": "stdout",
     "output_type": "stream",
     "text": [
      "1\n",
      "1\n",
      "2\n",
      "2\n",
      "3\n",
      "세번째 반복문\n",
      "4\n",
      "4\n",
      "5\n",
      "5\n",
      "6\n",
      "6\n",
      "7\n",
      "7\n",
      "8\n",
      "8\n",
      "9\n",
      "9\n",
      "10\n",
      "10\n"
     ]
    }
   ],
   "source": [
    "num = 0\n",
    "for i in range(10):\n",
    "    num = num +1\n",
    "    print(num)\n",
    "\n",
    "    if num == 3:\n",
    "        print('세번째 반복문')\n",
    "        continue\n",
    "\n",
    "    print(num)    "
   ]
  },
  {
   "cell_type": "code",
   "execution_count": 33,
   "metadata": {},
   "outputs": [
    {
     "name": "stdout",
     "output_type": "stream",
     "text": [
      "seoul\n",
      "daejeon\n",
      "daegu\n",
      "busan\n",
      "부산 가고 싶다.\n"
     ]
    }
   ],
   "source": [
    "cities=[\"seoul\",\"daejeon\",\"daegu\",'busan']\n",
    "for city in cities:\n",
    "    print(city)\n",
    "\n",
    "    if city == \"busan\":\n",
    "        print('부산 가고 싶다.')"
   ]
  },
  {
   "cell_type": "code",
   "execution_count": 35,
   "metadata": {},
   "outputs": [
    {
     "name": "stdout",
     "output_type": "stream",
     "text": [
      "p\n",
      "y\n",
      "t\n",
      "h\n",
      "o\n",
      "n\n",
      "반복문 종료 후 실행\n"
     ]
    }
   ],
   "source": [
    "for i in \"python\":\n",
    "    print(i)\n",
    "else:\n",
    "    print('반복문 종료 후 실행')"
   ]
  },
  {
   "cell_type": "code",
   "execution_count": 36,
   "metadata": {},
   "outputs": [
    {
     "name": "stdout",
     "output_type": "stream",
     "text": [
      "1\n",
      "2\n",
      "3\n",
      "4\n",
      "5\n"
     ]
    }
   ],
   "source": [
    "# while\n",
    "\n",
    "num = 0\n",
    "# while True:  #무한 루프\n",
    "#    print(num)\n",
    "while num < 5:\n",
    "    num = num +1\n",
    "    print(num)"
   ]
  },
  {
   "cell_type": "code",
   "execution_count": 2,
   "metadata": {},
   "outputs": [
    {
     "name": "stdout",
     "output_type": "stream",
     "text": [
      "0\n",
      "1\n",
      "3\n",
      "6\n",
      "10\n",
      "15\n"
     ]
    }
   ],
   "source": [
    "#(1) for\n",
    "num = 0\n",
    "for i in range(6):\n",
    "    num = num + i\n",
    "    print(num)\n"
   ]
  },
  {
   "cell_type": "code",
   "execution_count": 41,
   "metadata": {},
   "outputs": [
    {
     "name": "stdout",
     "output_type": "stream",
     "text": [
      "15\n"
     ]
    }
   ],
   "source": [
    "#(2) while\n",
    "i = 0\n",
    "result = 0\n",
    "while i < 6:\n",
    "    result = result + i\n",
    "    i += 1\n",
    "print(result)"
   ]
  },
  {
   "cell_type": "code",
   "execution_count": 45,
   "metadata": {},
   "outputs": [
    {
     "name": "stdout",
     "output_type": "stream",
     "text": [
      "2\n",
      "4\n",
      "6\n",
      "8\n",
      "10\n"
     ]
    }
   ],
   "source": [
    "for i in range(1, 11):\n",
    "    if i % 2 == 0:\n",
    "        print(i)"
   ]
  },
  {
   "cell_type": "code",
   "execution_count": 44,
   "metadata": {},
   "outputs": [
    {
     "name": "stdout",
     "output_type": "stream",
     "text": [
      "음수\n"
     ]
    }
   ],
   "source": [
    "num = int(input(\"숫자를 입력하세요: \"))\n",
    "if num > 0:\n",
    "    print(\"양수\")\n",
    "elif num < 0:\n",
    "    print(\"음수\")\n",
    "else:\n",
    "    print(\"0은 0이야.\")"
   ]
  },
  {
   "cell_type": "code",
   "execution_count": 31,
   "metadata": {},
   "outputs": [
    {
     "name": "stdout",
     "output_type": "stream",
     "text": [
      "3 x 1 = 3\n",
      "3 x 2 = 6\n",
      "3 x 3 = 9\n",
      "3 x 4 = 12\n",
      "3 x 5 = 15\n",
      "3 x 6 = 18\n",
      "3 x 7 = 21\n",
      "3 x 8 = 24\n",
      "3 x 9 = 27\n",
      "3 x 10 = 30\n",
      "3 x 11 = 33\n",
      "3 x 12 = 36\n"
     ]
    }
   ],
   "source": [
    "num = int(input(\"숫자를 입력하세요: \"))\n",
    "for i in range(1, 13):\n",
    "    print(num,'x', i,'=', num * i)"
   ]
  },
  {
   "cell_type": "code",
   "execution_count": 40,
   "metadata": {},
   "outputs": [
    {
     "name": "stdout",
     "output_type": "stream",
     "text": [
      "315\n"
     ]
    }
   ],
   "source": [
    "result = 0\n",
    "for i in range(1, 101):\n",
    "    if i % 3 == 0 and i % 5 == 0:\n",
    "        result += i\n",
    "print(result)"
   ]
  },
  {
   "attachments": {},
   "cell_type": "markdown",
   "metadata": {},
   "source": [
    "## def\n",
    "- def: define 정의하다\n",
    "- 반복되는 코드들을 함수로 묶어서 => 재활용하고자 할 때 사용"
   ]
  },
  {
   "cell_type": "code",
   "execution_count": 46,
   "metadata": {},
   "outputs": [
    {
     "name": "stdout",
     "output_type": "stream",
     "text": [
      "이름\n"
     ]
    }
   ],
   "source": [
    "#(1) 함수 정의\n",
    "def name():\n",
    "    print(\"이름\")\n",
    "name()"
   ]
  },
  {
   "cell_type": "code",
   "execution_count": 47,
   "metadata": {},
   "outputs": [
    {
     "name": "stdout",
     "output_type": "stream",
     "text": [
      "지윤\n"
     ]
    }
   ],
   "source": [
    "# (1) 매개변수가 있는 함수\n",
    "\n",
    "def show_name(name):\n",
    "    print(name)\n",
    "\n",
    "show_name(\"지윤\")"
   ]
  },
  {
   "cell_type": "code",
   "execution_count": 50,
   "metadata": {},
   "outputs": [
    {
     "name": "stdout",
     "output_type": "stream",
     "text": [
      "7\n"
     ]
    }
   ],
   "source": [
    "# (2) 리턴이 있는 함수\n",
    "def sum(a,b):\n",
    "    result = a + b\n",
    "    return result\n",
    "result = sum(3,4)\n",
    "print(result)"
   ]
  },
  {
   "cell_type": "code",
   "execution_count": 63,
   "metadata": {},
   "outputs": [
    {
     "name": "stdout",
     "output_type": "stream",
     "text": [
      "babo 님은 F등급입니다.\n"
     ]
    }
   ],
   "source": [
    "def grade(name, score):\n",
    "    if score >= 90:\n",
    "        print(name+'님은 A등급입니다.')\n",
    "    elif score >= 80:\n",
    "        print(name+'님은 B등급입니다.')\n",
    "    elif score >= 70:\n",
    "        print(name+'님은 C등급입니다.')\n",
    "    elif score >= 60:\n",
    "        print(name+'님은 D등급입니다.')\n",
    "    else score < 60 and score >= 0:\n",
    "        print(name+'님은 F등급입니다.')\n",
    "\n",
    "grade('babo', 55)"
   ]
  },
  {
   "cell_type": "code",
   "execution_count": 65,
   "metadata": {},
   "outputs": [
    {
     "data": {
      "text/plain": [
       "'F'"
      ]
     },
     "execution_count": 65,
     "metadata": {},
     "output_type": "execute_result"
    }
   ],
   "source": [
    "# return\n",
    "\n",
    "def show_grade(name, score):\n",
    "    grade = 0\n",
    "\n",
    "    if score >= 90:\n",
    "        grade = 'A'\n",
    "    elif score >= 80:\n",
    "        grade = 'B'\n",
    "    elif score >= 70:\n",
    "        grade = 'C'\n",
    "    elif score >= 60:\n",
    "        grade = 'D'\n",
    "    elif score < 60 and score >= 0:\n",
    "        grade = 'F'\n",
    "    return grade\n",
    "\n",
    "show_grade('babo', 55)"
   ]
  },
  {
   "cell_type": "code",
   "execution_count": null,
   "metadata": {},
   "outputs": [],
   "source": [
    "def result_grade(score, name):\n",
    "    result = []\n",
    "\n",
    "    grade = \"\"\n",
    "    if score >= 90:\n",
    "        grade = \"A\"\n",
    "    elif score >= 80:\n",
    "        grade = \"B\"\n",
    "    \n",
    "    result.append()"
   ]
  },
  {
   "attachments": {},
   "cell_type": "markdown",
   "metadata": {},
   "source": [
    "### 내장함수와 외장함수\n",
    "\n",
    "- 내장함수는 파이썬 언어 자체가 이미 품고 있는 함수 //Built-in Functions\n",
    "- 외장함수는 외부에서 불러와서 사용하는 함수 //External Function"
   ]
  },
  {
   "cell_type": "code",
   "execution_count": 66,
   "metadata": {},
   "outputs": [
    {
     "data": {
      "text/plain": [
       "111"
      ]
     },
     "execution_count": 66,
     "metadata": {},
     "output_type": "execute_result"
    }
   ],
   "source": [
    "# 내장함수\n",
    "\n",
    "# (1) abs - 절댓값\n",
    "abs(-111)"
   ]
  },
  {
   "cell_type": "code",
   "execution_count": 70,
   "metadata": {},
   "outputs": [
    {
     "data": {
      "text/plain": [
       "'python'"
      ]
     },
     "execution_count": 70,
     "metadata": {},
     "output_type": "execute_result"
    }
   ],
   "source": [
    "# (2) upper(), lower()\n",
    "\n",
    "a = 'python'\n",
    "b = a.upper()   # 소문자 -> 대문자로 변경\n",
    "c = b.lower()\n",
    "c"
   ]
  },
  {
   "cell_type": "code",
   "execution_count": 73,
   "metadata": {},
   "outputs": [
    {
     "data": {
      "text/plain": [
       "str"
      ]
     },
     "execution_count": 73,
     "metadata": {},
     "output_type": "execute_result"
    }
   ],
   "source": [
    "# (3) 형 변환(ste, int)\n",
    "a = int(\"10\")\n",
    "type(a)\n",
    "\n",
    "b = str(10)\n",
    "type(b)"
   ]
  },
  {
   "cell_type": "code",
   "execution_count": 78,
   "metadata": {},
   "outputs": [
    {
     "data": {
      "text/plain": [
       "'kor==china==usa'"
      ]
     },
     "execution_count": 78,
     "metadata": {},
     "output_type": "execute_result"
    }
   ],
   "source": [
    "# (4) join(), split()\n",
    "\"*^o^*\".join('Korea')\n",
    "\n",
    "# list 데이터를 join에 넣으면\n",
    "countries = ['kor', 'china', 'usa']\n",
    "country = \"==\".join(countries)\n",
    "\n",
    "country.split(\"==\")\n",
    "country"
   ]
  },
  {
   "cell_type": "code",
   "execution_count": 80,
   "metadata": {},
   "outputs": [
    {
     "name": "stdout",
     "output_type": "stream",
     "text": [
      "title1\n",
      "title2\n",
      "title3\n"
     ]
    }
   ],
   "source": [
    "word = \"title1,title2,title3\"\n",
    "word_list = word.split(\",\")\n",
    "for i in word_list:\n",
    "    print(i)"
   ]
  },
  {
   "cell_type": "code",
   "execution_count": 83,
   "metadata": {},
   "outputs": [
    {
     "name": "stdout",
     "output_type": "stream",
     "text": [
      "안녕, 나는 babo이야. 나는 케이크, 코딩, 숨 쉬기 운동을 좋아해.\n"
     ]
    }
   ],
   "source": [
    "# (5) format\n",
    "name = \"babo\"\n",
    "hobby = [\"케이크\", \"코딩\", \"숨 쉬기 운동\"]\n",
    "\n",
    "print(\"안녕, 나는 {}이야. 나는 {}, {}, {}을 좋아해.\".format(name, hobby[0], hobby[1], hobby[2]))"
   ]
  },
  {
   "cell_type": "code",
   "execution_count": 94,
   "metadata": {},
   "outputs": [
    {
     "data": {
      "text/plain": [
       "[6, 3, 4, 2, 1, 5]"
      ]
     },
     "execution_count": 94,
     "metadata": {},
     "output_type": "execute_result"
    }
   ],
   "source": [
    "# 외장함수\n",
    "# (1) random\n",
    "\n",
    "import random\n",
    "random.random()\n",
    "# random.randint(1,6)\n",
    "\n",
    "a = [1,2,3,4,5,6]\n",
    "# random.choice(a)\n",
    "random.shuffle(a)\n",
    "a"
   ]
  },
  {
   "cell_type": "code",
   "execution_count": 101,
   "metadata": {},
   "outputs": [
    {
     "name": "stdout",
     "output_type": "stream",
     "text": [
      "업데이트 하세요.\n"
     ]
    }
   ],
   "source": [
    "# (2) sys => 시스템 함수\n",
    "import sys\n",
    "# sys path\n",
    "version = sys.version[0:4]\n",
    "\n",
    "if version < \"3.11\":\n",
    "    print(\"업데이트 하세요.\")"
   ]
  },
  {
   "cell_type": "code",
   "execution_count": 103,
   "metadata": {},
   "outputs": [
    {
     "data": {
      "text/plain": [
       "'c:\\\\Users\\\\angle\\\\Desktop\\\\python'"
      ]
     },
     "execution_count": 103,
     "metadata": {},
     "output_type": "execute_result"
    }
   ],
   "source": [
    "# (3) os\n",
    "import os\n",
    "os.mkdir(\"가자\")\n",
    "# os.rmdir('가자')\n",
    "\n",
    "os.getcwd()"
   ]
  },
  {
   "attachments": {},
   "cell_type": "markdown",
   "metadata": {},
   "source": []
  },
  {
   "cell_type": "code",
   "execution_count": 102,
   "metadata": {},
   "outputs": [
    {
     "data": {
      "text/plain": [
       "time.struct_time(tm_year=2023, tm_mon=6, tm_mday=20, tm_hour=14, tm_min=11, tm_sec=4, tm_wday=1, tm_yday=171, tm_isdst=0)"
      ]
     },
     "execution_count": 102,
     "metadata": {},
     "output_type": "execute_result"
    }
   ],
   "source": [
    "#(4)time\n",
    "import time\n",
    "time.localtime(time.time())"
   ]
  },
  {
   "attachments": {},
   "cell_type": "markdown",
   "metadata": {},
   "source": [
    "### 클래스(class)\n",
    "- OOP(Object Oriented Programming: 객체 지향 프로그래밍) => 가장 기본 단위가 클래스"
   ]
  },
  {
   "cell_type": "code",
   "execution_count": 106,
   "metadata": {},
   "outputs": [
    {
     "ename": "TypeError",
     "evalue": "FishBread.red_bean() missing 1 required positional argument: 'self'",
     "output_type": "error",
     "traceback": [
      "\u001b[1;31m---------------------------------------------------------------------------\u001b[0m",
      "\u001b[1;31mTypeError\u001b[0m                                 Traceback (most recent call last)",
      "Cell \u001b[1;32mIn[106], line 8\u001b[0m\n\u001b[0;32m      5\u001b[0m     \u001b[39mdef\u001b[39;00m \u001b[39mshucream\u001b[39m(\u001b[39mself\u001b[39m):\n\u001b[0;32m      6\u001b[0m         \u001b[39mprint\u001b[39m(\u001b[39m\"\u001b[39m\u001b[39m이 붕어빵은 \u001b[39m\u001b[39m\"\u001b[39m\u001b[39m+\u001b[39m \u001b[39mself\u001b[39m\u001b[39m.\u001b[39mname \u001b[39m+\u001b[39m\u001b[39m\"\u001b[39m\u001b[39m입니다.\u001b[39m\u001b[39m\"\u001b[39m)\n\u001b[1;32m----> 8\u001b[0m FishBread\u001b[39m.\u001b[39;49mred_bean()\n",
      "\u001b[1;31mTypeError\u001b[0m: FishBread.red_bean() missing 1 required positional argument: 'self'"
     ]
    }
   ],
   "source": [
    "class FishBread:  #붕어빵\n",
    "    def red_bean(self):\n",
    "        print(\"이 붕어빵은 \"+ self.name +\"입니다.\")\n",
    "    \n",
    "    def shucream(self):\n",
    "        print(\"이 붕어빵은 \"+ self.name +\"입니다.\")\n",
    "\n",
    "FishBread.red_bean()"
   ]
  },
  {
   "cell_type": "code",
   "execution_count": 111,
   "metadata": {},
   "outputs": [
    {
     "name": "stdout",
     "output_type": "stream",
     "text": [
      "붕어빵 이름: 팥 붕어빵, 재료: 팥, 가격: 500\n",
      "붕어빵 이름: 슈크림 붕어빵, 재료: 슈크림, 가격: 1000\n"
     ]
    }
   ],
   "source": [
    "class FishBread:\n",
    "    # __init__ : 생성자 함수, 클래스가 실행될 때 가장 먼저 실행되는 함수\n",
    "    def __init__(self, name, ingredient, price):\n",
    "        self.name = name\n",
    "        self.ingredient = ingredient\n",
    "        self.price = price\n",
    "\n",
    "    def bread(self):\n",
    "        print(\"붕어빵 이름: {}, 재료: {}, 가격: {}\".format(self.name, self.ingredient, self.price))\n",
    "\n",
    "redbean_bread = FishBread(\"팥 붕어빵\", \"팥\", 500)\n",
    "redbean_bread.bread()\n",
    "\n",
    "shucream_bread = FishBread(\"슈크림 붕어빵\", \"슈크림\", 1000)\n",
    "shucream_bread.bread()"
   ]
  },
  {
   "cell_type": "code",
   "execution_count": 112,
   "metadata": {},
   "outputs": [],
   "source": [
    "# (4) 모듈\n",
    "# 변수 -> 함수 -> 클래스 -> 모듈 -> 패키지(라이브러리)\n"
   ]
  },
  {
   "cell_type": "code",
   "execution_count": null,
   "metadata": {},
   "outputs": [],
   "source": []
  }
 ],
 "metadata": {
  "kernelspec": {
   "display_name": "Python 3",
   "language": "python",
   "name": "python3"
  },
  "language_info": {
   "codemirror_mode": {
    "name": "ipython",
    "version": 3
   },
   "file_extension": ".py",
   "mimetype": "text/x-python",
   "name": "python",
   "nbconvert_exporter": "python",
   "pygments_lexer": "ipython3",
   "version": "3.10.11"
  },
  "orig_nbformat": 4
 },
 "nbformat": 4,
 "nbformat_minor": 2
}
