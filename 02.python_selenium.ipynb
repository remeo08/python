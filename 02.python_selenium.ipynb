{
 "cells": [
  {
   "attachments": {},
   "cell_type": "markdown",
   "metadata": {},
   "source": [
    "## 셀레늄\n",
    "- 데이터 크롤링"
   ]
  },
  {
   "cell_type": "code",
   "execution_count": 2,
   "metadata": {},
   "outputs": [
    {
     "name": "stdout",
     "output_type": "stream",
     "text": [
      "Collecting selenium\n",
      "  Downloading selenium-4.10.0-py3-none-any.whl (6.7 MB)\n",
      "     ---------------------------------------- 0.0/6.7 MB ? eta -:--:--\n",
      "     - -------------------------------------- 0.2/6.7 MB 5.3 MB/s eta 0:00:02\n",
      "     -- ------------------------------------- 0.3/6.7 MB 4.2 MB/s eta 0:00:02\n",
      "     --- ------------------------------------ 0.6/6.7 MB 5.1 MB/s eta 0:00:02\n",
      "     ----- ---------------------------------- 0.9/6.7 MB 5.4 MB/s eta 0:00:02\n",
      "     ------- -------------------------------- 1.2/6.7 MB 5.6 MB/s eta 0:00:01\n",
      "     -------- ------------------------------- 1.4/6.7 MB 5.8 MB/s eta 0:00:01\n",
      "     -------- ------------------------------- 1.4/6.7 MB 5.1 MB/s eta 0:00:02\n",
      "     -------- ------------------------------- 1.5/6.7 MB 4.9 MB/s eta 0:00:02\n",
      "     ---------- ----------------------------- 1.8/6.7 MB 4.8 MB/s eta 0:00:02\n",
      "     ------------- -------------------------- 2.2/6.7 MB 5.1 MB/s eta 0:00:01\n",
      "     ------------- -------------------------- 2.3/6.7 MB 5.1 MB/s eta 0:00:01\n",
      "     ---------------- ----------------------- 2.7/6.7 MB 5.4 MB/s eta 0:00:01\n",
      "     ----------------- ---------------------- 2.9/6.7 MB 5.5 MB/s eta 0:00:01\n",
      "     ------------------ --------------------- 3.1/6.7 MB 5.3 MB/s eta 0:00:01\n",
      "     ------------------- -------------------- 3.3/6.7 MB 5.3 MB/s eta 0:00:01\n",
      "     ---------------------- ----------------- 3.8/6.7 MB 5.6 MB/s eta 0:00:01\n",
      "     ------------------------- -------------- 4.2/6.7 MB 5.8 MB/s eta 0:00:01\n",
      "     ------------------------- -------------- 4.3/6.7 MB 5.7 MB/s eta 0:00:01\n",
      "     --------------------------- ------------ 4.5/6.7 MB 5.6 MB/s eta 0:00:01\n",
      "     ---------------------------- ----------- 4.8/6.7 MB 5.7 MB/s eta 0:00:01\n",
      "     ------------------------------- -------- 5.2/6.7 MB 5.8 MB/s eta 0:00:01\n",
      "     -------------------------------- ------- 5.5/6.7 MB 5.8 MB/s eta 0:00:01\n",
      "     ---------------------------------- ----- 5.8/6.7 MB 5.8 MB/s eta 0:00:01\n",
      "     ---------------------------------- ----- 5.8/6.7 MB 5.8 MB/s eta 0:00:01\n",
      "     ---------------------------------- ----- 5.8/6.7 MB 5.4 MB/s eta 0:00:01\n",
      "     ------------------------------------ --- 6.1/6.7 MB 5.4 MB/s eta 0:00:01\n",
      "     ------------------------------------- -- 6.3/6.7 MB 5.5 MB/s eta 0:00:01\n",
      "     -------------------------------------- - 6.4/6.7 MB 5.3 MB/s eta 0:00:01\n",
      "     ---------------------------------------  6.7/6.7 MB 5.5 MB/s eta 0:00:01\n",
      "     ---------------------------------------- 6.7/6.7 MB 5.2 MB/s eta 0:00:00\n",
      "Collecting trio~=0.17\n",
      "  Downloading trio-0.22.0-py3-none-any.whl (384 kB)\n",
      "     ---------------------------------------- 0.0/384.9 kB ? eta -:--:--\n",
      "     ------------------------------------  378.9/384.9 kB 11.9 MB/s eta 0:00:01\n",
      "     -------------------------------------- 384.9/384.9 kB 8.0 MB/s eta 0:00:00\n",
      "Collecting certifi>=2021.10.8\n",
      "  Downloading certifi-2023.5.7-py3-none-any.whl (156 kB)\n",
      "     ---------------------------------------- 0.0/157.0 kB ? eta -:--:--\n",
      "     -------------------------------------  153.6/157.0 kB 4.5 MB/s eta 0:00:01\n",
      "     -------------------------------------- 157.0/157.0 kB 2.3 MB/s eta 0:00:00\n",
      "Collecting urllib3[socks]<3,>=1.26\n",
      "  Downloading urllib3-2.0.3-py3-none-any.whl (123 kB)\n",
      "     ---------------------------------------- 0.0/123.6 kB ? eta -:--:--\n",
      "     -------------------------------------- 123.6/123.6 kB 7.1 MB/s eta 0:00:00\n",
      "Collecting trio-websocket~=0.9\n",
      "  Downloading trio_websocket-0.10.3-py3-none-any.whl (17 kB)\n",
      "Collecting attrs>=19.2.0\n",
      "  Using cached attrs-23.1.0-py3-none-any.whl (61 kB)\n",
      "Collecting cffi>=1.14\n",
      "  Downloading cffi-1.15.1-cp310-cp310-win_amd64.whl (179 kB)\n",
      "     ---------------------------------------- 0.0/179.1 kB ? eta -:--:--\n",
      "     -------------------------------------- 179.1/179.1 kB 3.6 MB/s eta 0:00:00\n",
      "Collecting sniffio\n",
      "  Using cached sniffio-1.3.0-py3-none-any.whl (10 kB)\n",
      "Collecting outcome\n",
      "  Downloading outcome-1.2.0-py2.py3-none-any.whl (9.7 kB)\n",
      "Collecting async-generator>=1.9\n",
      "  Downloading async_generator-1.10-py3-none-any.whl (18 kB)\n",
      "Collecting sortedcontainers\n",
      "  Downloading sortedcontainers-2.4.0-py2.py3-none-any.whl (29 kB)\n",
      "Collecting exceptiongroup>=1.0.0rc9\n",
      "  Downloading exceptiongroup-1.1.1-py3-none-any.whl (14 kB)\n",
      "Collecting idna\n",
      "  Using cached idna-3.4-py3-none-any.whl (61 kB)\n",
      "Collecting wsproto>=0.14\n",
      "  Downloading wsproto-1.2.0-py3-none-any.whl (24 kB)\n",
      "Collecting pysocks!=1.5.7,<2.0,>=1.5.6\n",
      "  Downloading PySocks-1.7.1-py3-none-any.whl (16 kB)\n",
      "Collecting pycparser\n",
      "  Using cached pycparser-2.21-py2.py3-none-any.whl (118 kB)\n",
      "Collecting h11<1,>=0.9.0\n",
      "  Downloading h11-0.14.0-py3-none-any.whl (58 kB)\n",
      "     ---------------------------------------- 0.0/58.3 kB ? eta -:--:--\n",
      "     ---------------------------------------- 58.3/58.3 kB 3.2 MB/s eta 0:00:00\n",
      "Installing collected packages: sortedcontainers, urllib3, sniffio, pysocks, pycparser, idna, h11, exceptiongroup, certifi, attrs, async-generator, wsproto, outcome, cffi, trio, trio-websocket, selenium\n",
      "Successfully installed async-generator-1.10 attrs-23.1.0 certifi-2023.5.7 cffi-1.15.1 exceptiongroup-1.1.1 h11-0.14.0 idna-3.4 outcome-1.2.0 pycparser-2.21 pysocks-1.7.1 selenium-4.10.0 sniffio-1.3.0 sortedcontainers-2.4.0 trio-0.22.0 trio-websocket-0.10.3 urllib3-2.0.3 wsproto-1.2.0\n",
      "Note: you may need to restart the kernel to use updated packages.\n"
     ]
    },
    {
     "name": "stderr",
     "output_type": "stream",
     "text": [
      "\n",
      "[notice] A new release of pip is available: 23.0.1 -> 23.1.2\n",
      "[notice] To update, run: python.exe -m pip install --upgrade pip\n"
     ]
    }
   ],
   "source": [
    "%pip install selenium"
   ]
  },
  {
   "cell_type": "code",
   "execution_count": 2,
   "metadata": {},
   "outputs": [],
   "source": [
    "from selenium import webdriver\n",
    "\n",
    "browser = webdriver.Chrome()"
   ]
  },
  {
   "cell_type": "code",
   "execution_count": 1,
   "metadata": {},
   "outputs": [
    {
     "ename": "NameError",
     "evalue": "name 'browser' is not defined",
     "output_type": "error",
     "traceback": [
      "\u001b[1;31m---------------------------------------------------------------------------\u001b[0m",
      "\u001b[1;31mNameError\u001b[0m                                 Traceback (most recent call last)",
      "Cell \u001b[1;32mIn[1], line 1\u001b[0m\n\u001b[1;32m----> 1\u001b[0m browser\u001b[39m.\u001b[39mget(\u001b[39m\"\u001b[39m\u001b[39mhttps://www.naver.com\u001b[39m\u001b[39m\"\u001b[39m)\n",
      "\u001b[1;31mNameError\u001b[0m: name 'browser' is not defined"
     ]
    }
   ],
   "source": [
    "browser.get(\"https://www.naver.com\")"
   ]
  },
  {
   "cell_type": "code",
   "execution_count": 5,
   "metadata": {},
   "outputs": [
    {
     "data": {
      "text/plain": [
       "['메일', '카페', '블로그', '쇼핑', '뉴스', '증권', '부동산', '지도', '웹툰', '바로가기 펼침']"
      ]
     },
     "execution_count": 5,
     "metadata": {},
     "output_type": "execute_result"
    }
   ],
   "source": [
    "from selenium.webdriver.common.by import By\n",
    "a = browser.find_element(By.CLASS_NAME, 'shortcut_list').text\n",
    "a.split(\"\\n\")"
   ]
  },
  {
   "cell_type": "code",
   "execution_count": 8,
   "metadata": {},
   "outputs": [],
   "source": [
    "browser.find_element(By.ID, 'query').click()"
   ]
  },
  {
   "cell_type": "code",
   "execution_count": 9,
   "metadata": {},
   "outputs": [],
   "source": [
    "browser.find_element(By.ID, 'query').send_keys(\"날씨\")"
   ]
  },
  {
   "cell_type": "code",
   "execution_count": 11,
   "metadata": {},
   "outputs": [],
   "source": [
    "browser.find_element(By.ID, \"search-btn\").click()"
   ]
  },
  {
   "cell_type": "code",
   "execution_count": 16,
   "metadata": {},
   "outputs": [
    {
     "data": {
      "text/plain": [
       "['현재 온도', '20.2°']"
      ]
     },
     "execution_count": 16,
     "metadata": {},
     "output_type": "execute_result"
    }
   ],
   "source": [
    "browser.find_element(By.CLASS_NAME, 'temperature_text').text.split('\\n')"
   ]
  },
  {
   "cell_type": "code",
   "execution_count": 45,
   "metadata": {},
   "outputs": [
    {
     "ename": "NoSuchElementException",
     "evalue": "Message: no such element: Unable to locate element: {\"method\":\"css selector\",\"selector\":\".temperature_text\"}\n  (Session info: chrome=114.0.5735.134); For documentation on this error, please visit: https://www.selenium.dev/documentation/webdriver/troubleshooting/errors#no-such-element-exception\nStacktrace:\nBacktrace:\n\tGetHandleVerifier [0x003AA813+48355]\n\t(No symbol) [0x0033C4B1]\n\t(No symbol) [0x00245358]\n\t(No symbol) [0x002709A5]\n\t(No symbol) [0x00270B3B]\n\t(No symbol) [0x0029E232]\n\t(No symbol) [0x0028A784]\n\t(No symbol) [0x0029C922]\n\t(No symbol) [0x0028A536]\n\t(No symbol) [0x002682DC]\n\t(No symbol) [0x002693DD]\n\tGetHandleVerifier [0x0060AABD+2539405]\n\tGetHandleVerifier [0x0064A78F+2800735]\n\tGetHandleVerifier [0x0064456C+2775612]\n\tGetHandleVerifier [0x004351E0+616112]\n\t(No symbol) [0x00345F8C]\n\t(No symbol) [0x00342328]\n\t(No symbol) [0x0034240B]\n\t(No symbol) [0x00334FF7]\n\tBaseThreadInitThunk [0x76DF7D59+25]\n\tRtlInitializeExceptionChain [0x77DCB74B+107]\n\tRtlClearBits [0x77DCB6CF+191]\n",
     "output_type": "error",
     "traceback": [
      "\u001b[1;31m---------------------------------------------------------------------------\u001b[0m",
      "\u001b[1;31mNoSuchElementException\u001b[0m                    Traceback (most recent call last)",
      "Cell \u001b[1;32mIn[45], line 1\u001b[0m\n\u001b[1;32m----> 1\u001b[0m parent \u001b[39m=\u001b[39m browser\u001b[39m.\u001b[39;49mfind_element(By\u001b[39m.\u001b[39;49mCLASS_NAME, \u001b[39m'\u001b[39;49m\u001b[39mtemperature_text\u001b[39;49m\u001b[39m'\u001b[39;49m)\n\u001b[0;32m      2\u001b[0m parent\u001b[39m.\u001b[39mfind_element(By\u001b[39m.\u001b[39mTAG_NAME, \u001b[39m'\u001b[39m\u001b[39mstrong\u001b[39m\u001b[39m'\u001b[39m)\u001b[39m.\u001b[39mtext\n\u001b[0;32m      3\u001b[0m \u001b[39m# TAG_NAME : ul, ol, div 등\u001b[39;00m\n",
      "File \u001b[1;32mc:\\Users\\angle\\AppData\\Local\\Programs\\Python\\Python310\\lib\\site-packages\\selenium\\webdriver\\remote\\webdriver.py:740\u001b[0m, in \u001b[0;36mWebDriver.find_element\u001b[1;34m(self, by, value)\u001b[0m\n\u001b[0;32m    737\u001b[0m     by \u001b[39m=\u001b[39m By\u001b[39m.\u001b[39mCSS_SELECTOR\n\u001b[0;32m    738\u001b[0m     value \u001b[39m=\u001b[39m \u001b[39mf\u001b[39m\u001b[39m'\u001b[39m\u001b[39m[name=\u001b[39m\u001b[39m\"\u001b[39m\u001b[39m{\u001b[39;00mvalue\u001b[39m}\u001b[39;00m\u001b[39m\"\u001b[39m\u001b[39m]\u001b[39m\u001b[39m'\u001b[39m\n\u001b[1;32m--> 740\u001b[0m \u001b[39mreturn\u001b[39;00m \u001b[39mself\u001b[39;49m\u001b[39m.\u001b[39;49mexecute(Command\u001b[39m.\u001b[39;49mFIND_ELEMENT, {\u001b[39m\"\u001b[39;49m\u001b[39musing\u001b[39;49m\u001b[39m\"\u001b[39;49m: by, \u001b[39m\"\u001b[39;49m\u001b[39mvalue\u001b[39;49m\u001b[39m\"\u001b[39;49m: value})[\u001b[39m\"\u001b[39m\u001b[39mvalue\u001b[39m\u001b[39m\"\u001b[39m]\n",
      "File \u001b[1;32mc:\\Users\\angle\\AppData\\Local\\Programs\\Python\\Python310\\lib\\site-packages\\selenium\\webdriver\\remote\\webdriver.py:346\u001b[0m, in \u001b[0;36mWebDriver.execute\u001b[1;34m(self, driver_command, params)\u001b[0m\n\u001b[0;32m    344\u001b[0m response \u001b[39m=\u001b[39m \u001b[39mself\u001b[39m\u001b[39m.\u001b[39mcommand_executor\u001b[39m.\u001b[39mexecute(driver_command, params)\n\u001b[0;32m    345\u001b[0m \u001b[39mif\u001b[39;00m response:\n\u001b[1;32m--> 346\u001b[0m     \u001b[39mself\u001b[39;49m\u001b[39m.\u001b[39;49merror_handler\u001b[39m.\u001b[39;49mcheck_response(response)\n\u001b[0;32m    347\u001b[0m     response[\u001b[39m\"\u001b[39m\u001b[39mvalue\u001b[39m\u001b[39m\"\u001b[39m] \u001b[39m=\u001b[39m \u001b[39mself\u001b[39m\u001b[39m.\u001b[39m_unwrap_value(response\u001b[39m.\u001b[39mget(\u001b[39m\"\u001b[39m\u001b[39mvalue\u001b[39m\u001b[39m\"\u001b[39m, \u001b[39mNone\u001b[39;00m))\n\u001b[0;32m    348\u001b[0m     \u001b[39mreturn\u001b[39;00m response\n",
      "File \u001b[1;32mc:\\Users\\angle\\AppData\\Local\\Programs\\Python\\Python310\\lib\\site-packages\\selenium\\webdriver\\remote\\errorhandler.py:245\u001b[0m, in \u001b[0;36mErrorHandler.check_response\u001b[1;34m(self, response)\u001b[0m\n\u001b[0;32m    243\u001b[0m         alert_text \u001b[39m=\u001b[39m value[\u001b[39m\"\u001b[39m\u001b[39malert\u001b[39m\u001b[39m\"\u001b[39m]\u001b[39m.\u001b[39mget(\u001b[39m\"\u001b[39m\u001b[39mtext\u001b[39m\u001b[39m\"\u001b[39m)\n\u001b[0;32m    244\u001b[0m     \u001b[39mraise\u001b[39;00m exception_class(message, screen, stacktrace, alert_text)  \u001b[39m# type: ignore[call-arg]  # mypy is not smart enough here\u001b[39;00m\n\u001b[1;32m--> 245\u001b[0m \u001b[39mraise\u001b[39;00m exception_class(message, screen, stacktrace)\n",
      "\u001b[1;31mNoSuchElementException\u001b[0m: Message: no such element: Unable to locate element: {\"method\":\"css selector\",\"selector\":\".temperature_text\"}\n  (Session info: chrome=114.0.5735.134); For documentation on this error, please visit: https://www.selenium.dev/documentation/webdriver/troubleshooting/errors#no-such-element-exception\nStacktrace:\nBacktrace:\n\tGetHandleVerifier [0x003AA813+48355]\n\t(No symbol) [0x0033C4B1]\n\t(No symbol) [0x00245358]\n\t(No symbol) [0x002709A5]\n\t(No symbol) [0x00270B3B]\n\t(No symbol) [0x0029E232]\n\t(No symbol) [0x0028A784]\n\t(No symbol) [0x0029C922]\n\t(No symbol) [0x0028A536]\n\t(No symbol) [0x002682DC]\n\t(No symbol) [0x002693DD]\n\tGetHandleVerifier [0x0060AABD+2539405]\n\tGetHandleVerifier [0x0064A78F+2800735]\n\tGetHandleVerifier [0x0064456C+2775612]\n\tGetHandleVerifier [0x004351E0+616112]\n\t(No symbol) [0x00345F8C]\n\t(No symbol) [0x00342328]\n\t(No symbol) [0x0034240B]\n\t(No symbol) [0x00334FF7]\n\tBaseThreadInitThunk [0x76DF7D59+25]\n\tRtlInitializeExceptionChain [0x77DCB74B+107]\n\tRtlClearBits [0x77DCB6CF+191]\n"
     ]
    }
   ],
   "source": [
    "parent = browser.find_element(By.CLASS_NAME, 'temperature_text')\n",
    "parent.find_element(By.TAG_NAME, 'strong').text\n",
    "# TAG_NAME : ul, ol, div 등"
   ]
  },
  {
   "cell_type": "code",
   "execution_count": 18,
   "metadata": {},
   "outputs": [
    {
     "data": {
      "text/plain": [
       "'체감 23.1° 습도 95% 남풍 0.6m/s'"
      ]
     },
     "execution_count": 18,
     "metadata": {},
     "output_type": "execute_result"
    }
   ],
   "source": [
    "browser.find_element(By.CLASS_NAME, \"summary_list\").text"
   ]
  },
  {
   "cell_type": "code",
   "execution_count": 36,
   "metadata": {},
   "outputs": [
    {
     "name": "stdout",
     "output_type": "stream",
     "text": [
      "23.1°\n",
      "95%\n",
      "0.6m/s\n"
     ]
    }
   ],
   "source": [
    "parent = browser.find_element(By.CLASS_NAME, \"summary_list\")\n",
    "children = parent.find_elements(By.CLASS_NAME, 'sort')\n",
    "\n",
    "data_list = []\n",
    "for i in children:\n",
    "    # data_list.append(i.text)\n",
    "    print(i.find_element(By.CLASS_NAME, 'desc').text)\n",
    "\n",
    "# data_list\n"
   ]
  },
  {
   "cell_type": "code",
   "execution_count": 38,
   "metadata": {},
   "outputs": [],
   "source": [
    "url = \"https://search.naver.com/search.naver?where=nexearch&sm=top_sug.pre&fbm=0&acr=1&acq=ghksdbf&qdt=0&ie=utf8&query=%ED%99%98%EC%9C%A8\"\n",
    "browser.get(url)"
   ]
  },
  {
   "cell_type": "code",
   "execution_count": 43,
   "metadata": {},
   "outputs": [
    {
     "data": {
      "text/plain": [
       "'1,291.60'"
      ]
     },
     "execution_count": 43,
     "metadata": {},
     "output_type": "execute_result"
    }
   ],
   "source": [
    "browser.find_element(By.XPATH, '//*[@id=\"_cs_foreigninfo\"]/div[1]/div[2]/div/div[1]/div[1]/div[1]/div[1]/h3/a/span[2]/strong').text"
   ]
  },
  {
   "attachments": {},
   "cell_type": "markdown",
   "metadata": {},
   "source": [
    "## 구글 뉴스 크롤링"
   ]
  },
  {
   "cell_type": "code",
   "execution_count": 4,
   "metadata": {},
   "outputs": [],
   "source": [
    "browser = webdriver.Chrome()"
   ]
  },
  {
   "cell_type": "code",
   "execution_count": 6,
   "metadata": {},
   "outputs": [],
   "source": [
    "url ='https://www.google.com/search?q=%EC%9E%90%EB%8F%99%ED%99%94&tbm=nws&sa=X&ved=2ahUKEwi45ev6vdP_AhXOD94KHQRfCGkQ0pQJegQICxAB&biw=718&bih=726&dpr=2'\n",
    "\n",
    "browser.get(url)"
   ]
  },
  {
   "cell_type": "code",
   "execution_count": 25,
   "metadata": {},
   "outputs": [
    {
     "data": {
      "text/plain": [
       "'1일 전'"
      ]
     },
     "execution_count": 25,
     "metadata": {},
     "output_type": "execute_result"
    }
   ],
   "source": [
    "# 첫 번째 뉴스의\n",
    "# 뉴스 제목\n",
    "from selenium.webdriver.common.by import By\n",
    "browser.find_element(By.CLASS_NAME, 'n0jPhd').text\n",
    "# 뉴스 내용\n",
    "browser.find_element(By.XPATH, '//*[@id=\"rso\"]/div/div/div[1]/div/div/a/div/div[2]/div[3]').text\n",
    "# 언론사\n",
    "browser.find_element(By.XPATH, '//*[@id=\"rso\"]/div/div/div[1]/div/div/a/div/div[2]/div[1]/span').text\n",
    "# 작성 시간\n",
    "browser.find_element(By.XPATH, '//*[@id=\"rso\"]/div/div/div[1]/div/div/a/div/div[2]/div[4]').text"
   ]
  },
  {
   "cell_type": "code",
   "execution_count": 34,
   "metadata": {},
   "outputs": [
    {
     "data": {
      "text/plain": [
       "['뉴로메카-원익로보틱스, 로봇 자동화 개발 맞손',\n",
       " \"뉴로메카-원익로보틱스, '로봇 및 자동화 개발 사업 추진' MOU 체결\",\n",
       " \"현대글로비스 '스마트 물류' 강화…자동화 SW 업체 '알티올' 인수\",\n",
       " '에스피시스템스, 66억 규모 로봇 자동화 시스템 공급 계약[주목 e공시]',\n",
       " '[2023 AMWC] 자동화에서 자율화로… 디지털 트윈 통한 제조 최적화 구현',\n",
       " '이노버스, 과기부 장관 표창… AIoT 기술 통한 재활용 시스템 자동화 공로',\n",
       " '에스피시스템스, 66억 규모 로봇 자동화 시스템 공급계약',\n",
       " '빅데이터·AI 시대 회계감사…전수 조사·자동화 등',\n",
       " \"FPT 소프트웨어 코리아 '코리아 노코드·로우코드 자동화 임팩트 2023' 참여\",\n",
       " '뉴로메카-원익로보틱스, 로봇·자동화 개발 사업 맞손']"
      ]
     },
     "execution_count": 34,
     "metadata": {},
     "output_type": "execute_result"
    }
   ],
   "source": [
    "# 1 페이지 전체의\n",
    "page_1 = browser.find_element(By.CLASS_NAME, \"GyAeWb\")\n",
    "\n",
    "# 뉴스 제목\n",
    "title = page_1.find_elements(By.CLASS_NAME, 'n0jPhd')\n",
    "\n",
    "data_list = []\n",
    "for i in title:\n",
    "    data_list.append(i.text)\n",
    "data_list"
   ]
  },
  {
   "cell_type": "code",
   "execution_count": 35,
   "metadata": {},
   "outputs": [
    {
     "data": {
      "text/plain": [
       "['협동로봇 제조기업 뉴로메카가 19일 원익로보틱스와 판교 원익빌딩에서 로봇·자동화 개발 사업 추진을 위한 상호 협력 양해각서를 체결했다.',\n",
       " '[서울=뉴스핌] 김양섭 기자 = 원익로보틱스와 뉴로메카는 판교 원익빌딩에서 로봇 및 자동화 개발 사업 추진을 위한 상호 협력에 대한 양해각서(MOU)...',\n",
       " '현대글로비스가 물류 자동화 소프트웨어(SW) 개발업체를 인수했다. 물류 자동화 시스템 구축·컨설...',\n",
       " '는 코넥과 66억원 규모의 산업용 로봇 자동화 시스템 공급계약을 체결했다고 21일 공시했다. 계약 금액은 65억5000만원으로 지난해 연결 기준 매출액...',\n",
       " \"[인더스트리뉴스 이건오 기자] 카이스트 장영재 교수가 6월 20일 서울 코엑스(COEX) 그랜드볼룸에서 개최된 '2023 자율생산 월드콩그레스(AMWC)'에...\",\n",
       " \"[일간투데이 한지연 기자] 환경 엔지니어링 기업 주식회사 이노버스(대표 장진혁)가 지난 15일 개최된 2023년 '제36회 정보문화의 달 기념식'에서...\",\n",
       " '[서울=뉴시스] 김경택 기자 = 에스피시스템스는 코넥과 66억원 규모의 산업용 로봇 자동화 시스템 공급계약을 체결했다고 21일 공시했다.',\n",
       " \"한국공인회계사회 회계현안 세미나 '빅데이터와 AI시대 회계감사' 4대 회계법인 활용 사례 및 계획 발표 한공회, 교육 커리큘럼 및 자격시험 평가법...\",\n",
       " \"코리아 노코드·로우코드 자동화 임팩트 2023', 21일 한국과학기술회관에서 개최. FPT 소프트웨어 코리아 '로우코드를 통한 회사 혁신의 가속화' 주제...\",\n",
       " '원익로보틱스와 뉴로메카는 모바일 로봇 사업 분야에서의 협력을 통해 첨단 로봇 시스템을 개발하고 산업 현장에서의 자동화를 촉진할 계획입니다.']"
      ]
     },
     "execution_count": 35,
     "metadata": {},
     "output_type": "execute_result"
    }
   ],
   "source": [
    "# 뉴스 내용\n",
    "content = page_1.find_elements(By.CLASS_NAME, 'GI74Re')\n",
    "\n",
    "data_list = []\n",
    "for i in content:\n",
    "    data_list.append(i.text)\n",
    "data_list"
   ]
  },
  {
   "cell_type": "code",
   "execution_count": 37,
   "metadata": {},
   "outputs": [
    {
     "data": {
      "text/plain": [
       "['지디넷코리아',\n",
       " '뉴스핌',\n",
       " '경향신문',\n",
       " '한국경제',\n",
       " '인더스트리뉴스',\n",
       " '일간투데이',\n",
       " '파이낸셜뉴스',\n",
       " '대한경제',\n",
       " '뉴스와이어',\n",
       " '::: 뉴스토마토 ::: 청정언론, 싱싱한 뉴스, 멀티미디어 경제매체']"
      ]
     },
     "execution_count": 37,
     "metadata": {},
     "output_type": "execute_result"
    }
   ],
   "source": [
    "# 언론사\n",
    "press = page_1.find_elements(By.CLASS_NAME, 'MgUUmf')\n",
    "\n",
    "data_list = []\n",
    "for i in press:\n",
    "    data_list.append(i.text)\n",
    "data_list"
   ]
  },
  {
   "cell_type": "code",
   "execution_count": 38,
   "metadata": {},
   "outputs": [
    {
     "data": {
      "text/plain": [
       "['1일 전',\n",
       " '1일 전',\n",
       " '1일 전',\n",
       " '48분 전',\n",
       " '20시간 전',\n",
       " '20시간 전',\n",
       " '1시간 전',\n",
       " '5시간 전',\n",
       " '1일 전',\n",
       " '1일 전']"
      ]
     },
     "execution_count": 38,
     "metadata": {},
     "output_type": "execute_result"
    }
   ],
   "source": [
    "# 발행일\n",
    "date = page_1.find_elements(By.CLASS_NAME, 'OSrXXb')\n",
    "\n",
    "data_list = []\n",
    "for i in date:\n",
    "    data_list.append(i.text)\n",
    "data_list"
   ]
  },
  {
   "cell_type": "code",
   "execution_count": 39,
   "metadata": {},
   "outputs": [
    {
     "ename": "AttributeError",
     "evalue": "'WebElement' object has no attribute 'attrs'",
     "output_type": "error",
     "traceback": [
      "\u001b[1;31m---------------------------------------------------------------------------\u001b[0m",
      "\u001b[1;31mAttributeError\u001b[0m                            Traceback (most recent call last)",
      "Cell \u001b[1;32mIn[39], line 5\u001b[0m\n\u001b[0;32m      2\u001b[0m news_titles \u001b[39m=\u001b[39m page_1\u001b[39m.\u001b[39mfind_elements(By\u001b[39m.\u001b[39mCLASS_NAME, \u001b[39m'\u001b[39m\u001b[39mWlydOe\u001b[39m\u001b[39m'\u001b[39m)\n\u001b[0;32m      4\u001b[0m \u001b[39mfor\u001b[39;00m i \u001b[39min\u001b[39;00m news_titles:\n\u001b[1;32m----> 5\u001b[0m     href \u001b[39m=\u001b[39m i\u001b[39m.\u001b[39;49mattrs[\u001b[39m'\u001b[39m\u001b[39mhref\u001b[39m\u001b[39m'\u001b[39m]\n\u001b[0;32m      6\u001b[0m     \u001b[39mprint\u001b[39m(href)\n",
      "\u001b[1;31mAttributeError\u001b[0m: 'WebElement' object has no attribute 'attrs'"
     ]
    }
   ],
   "source": [
    "# 링크\n",
    "news_titles = page_1.find_elements(By.CLASS_NAME, 'WlydOe')\n",
    "\n",
    "for i in news_titles:\n",
    "    href = i.attrs['href']\n",
    "    print(href)"
   ]
  },
  {
   "cell_type": "code",
   "execution_count": 44,
   "metadata": {},
   "outputs": [],
   "source": [
    "# 2페이지\n",
    "page = browser.find_element(By.CLASS_NAME, \"YyVfkd\").click()\n",
    "\n",
    "# data_list = []\n",
    "# for i in date:\n",
    "#     data_list.append(i.text)\n",
    "# data_list\n"
   ]
  },
  {
   "attachments": {},
   "cell_type": "markdown",
   "metadata": {},
   "source": [
    "## 구글 뉴스 크롤링(2)"
   ]
  },
  {
   "cell_type": "code",
   "execution_count": 45,
   "metadata": {},
   "outputs": [],
   "source": [
    "from selenium import webdriver\n",
    "from selenium.webdriver.common.by import By"
   ]
  },
  {
   "cell_type": "code",
   "execution_count": 46,
   "metadata": {},
   "outputs": [],
   "source": [
    "browser = webdriver.Chrome()"
   ]
  },
  {
   "cell_type": "code",
   "execution_count": 47,
   "metadata": {},
   "outputs": [],
   "source": [
    "url = 'https://www.google.com/search?q=%EC%9E%90%EB%8F%99%ED%99%94&tbm=nws&ei=4H-SZLueOdib-AaTi6m4BQ&start=0&sa=N&ved=2ahUKEwi7jpi-xtP_AhXYDd4KHZNFClc4ChDy0wN6BAgEEAQ&biw=488&bih=701&dpr=2'\n",
    "browser.get(url)"
   ]
  },
  {
   "cell_type": "code",
   "execution_count": 50,
   "metadata": {},
   "outputs": [
    {
     "data": {
      "text/plain": [
       "('뉴로메카-원익로보틱스, 로봇 자동화 개발 맞손',\n",
       " '협동로봇 제조기업 뉴로메카가 19일 원익로보틱스와 판교 원익빌딩에서 로봇·자동화 개발 사업 추진을 위한 상호 협력 양해각서를 체결했다.',\n",
       " 'https://zdnet.co.kr/view/?no=20230620104928')"
      ]
     },
     "execution_count": 50,
     "metadata": {},
     "output_type": "execute_result"
    }
   ],
   "source": [
    "# 뉴스 1개\n",
    "\n",
    "\n",
    "title = browser.find_element(By.CLASS_NAME, 'n0jPhd').text\n",
    "title\n",
    "\n",
    "content = browser.find_element(By.CLASS_NAME,'GI74Re').text\n",
    "content\n",
    "\n",
    "# 링크 가져오기!!!!!!!!\n",
    "link = browser.find_element(By.CLASS_NAME, 'WlydOe').get_attribute('href')\n",
    "link\n",
    "\n",
    "title, content, link"
   ]
  },
  {
   "cell_type": "code",
   "execution_count": 58,
   "metadata": {},
   "outputs": [
    {
     "name": "stdout",
     "output_type": "stream",
     "text": [
      "뉴로메카-원익로보틱스, 로봇 자동화 개발 맞손\n",
      "에스피시스템스, 66억 규모 로봇 자동화 시스템 공급계약\n",
      "뉴로메카-원익로보틱스, '혁신 로봇·자동화 기술 고도화' 맞손\n",
      "[2023 AMWC] 자동화에서 자율화로… 디지털 트윈 통한 제조 최적화 구현\n",
      "이노버스, 과기부 장관 표창… AIoT 기술 통한 재활용 시스템 자동화 공로\n",
      "빅데이터·AI 시대 회계감사…전수 조사·자동화 등\n",
      "FPT 소프트웨어 코리아 '코리아 노코드·로우코드 자동화 임팩트 2023' 참여\n",
      "뉴로메카-원익로보틱스, 로봇 자동화 개발 사업 협력\n",
      "에스피시스템스, 66억 규모 로봇 자동화 시스템 공급 계약[주목 e공시]\n",
      "파씨온택, 자동화 기술 솔루션 공급업체로 '우뚝'\n"
     ]
    }
   ],
   "source": [
    "# 1 페이지 뉴스 10개\n",
    "\n",
    "# 제목\n",
    "titles = browser.find_elements(By.CLASS_NAME, 'n0jPhd')\n",
    "for i in titles:\n",
    "    print(i.text)"
   ]
  },
  {
   "cell_type": "code",
   "execution_count": 59,
   "metadata": {},
   "outputs": [
    {
     "name": "stdout",
     "output_type": "stream",
     "text": [
      "협동로봇 제조기업 뉴로메카가 19일 원익로보틱스와 판교 원익빌딩에서 로봇·자동화 개발 사업 추진을 위한 상호 협력 양해각서를 체결했다.\n",
      "[서울=뉴시스] 김경택 기자 = 에스피시스템스는 코넥과 66억원 규모의 산업용 로봇 자동화 시스템 공급계약을 체결했다고 21일 공시했다.\n",
      "뉴로메카는 원익로보틱스와 최근 판교 원익빌딩에서 '로봇·자동화 개발 사업 추진'을 위한 업무협약(MOU)을 맺었다고 21일 밝혔다.\n",
      "[인더스트리뉴스 이건오 기자] 카이스트 장영재 교수가 6월 20일 서울 코엑스(COEX) 그랜드볼룸에서 개최된 '2023 자율생산 월드콩그레스(AMWC)'에...\n",
      "[일간투데이 한지연 기자] 환경 엔지니어링 기업 주식회사 이노버스(대표 장진혁)가 지난 15일 개최된 2023년 '제36회 정보문화의 달 기념식'에서...\n",
      "한국공인회계사회 회계현안 세미나 '빅데이터와 AI시대 회계감사' 4대 회계법인 활용 사례 및 계획 발표 한공회, 교육 커리큘럼 및 자격시험 평가법...\n",
      "코리아 노코드·로우코드 자동화 임팩트 2023', 21일 한국과학기술회관에서 개최. FPT 소프트웨어 코리아 '로우코드를 통한 회사 혁신의 가속화' 주제...\n",
      "원익로보틱스와 뉴로메카는 로봇 및 자동화 개발 사업 추진을 위한 상호 협력에 대한 양해각서(MOU)를 지난 19일 체결했다고 밝혔다.\n",
      "는 코넥과 66억원 규모의 산업용 로봇 자동화 시스템 공급계약을 체결했다고 21일 공시했다. 계약 금액은 65억5000만원으로 지난해 연결 기준 매출액...\n",
      "업력 3년이 채 되지 않은 자동화기기 부품ㆍ기술 제공기업 ㈜파씨온택이 자동화ㆍ전력기기 유통 시장에서 대형 계약을 연속 따내며 소프트웨어까지...\n"
     ]
    }
   ],
   "source": [
    "# 내용\n",
    "contents = browser.find_elements(By.CLASS_NAME,'GI74Re')\n",
    "for i in contents:\n",
    "    print(i.text)"
   ]
  },
  {
   "cell_type": "code",
   "execution_count": 60,
   "metadata": {},
   "outputs": [
    {
     "name": "stdout",
     "output_type": "stream",
     "text": [
      "https://zdnet.co.kr/view/?no=20230620104928\n",
      "https://www.fnnews.com/news/202306211143537130\n",
      "https://www.etnews.com/20230621000154\n",
      "http://www.industrynews.co.kr/news/articleView.html?idxno=50138\n",
      "http://www.dtoday.co.kr/news/articleView.html?idxno=603552\n",
      "https://www.dnews.co.kr/uhtml/view.jsp?idxno=202306210004036640485\n",
      "https://www.newswire.co.kr/newsRead.php?no=969052\n",
      "http://www.irobotnews.com/news/articleView.html?idxno=31916\n",
      "https://www.hankyung.com/finance/article/2023062140606\n",
      "https://www.eroun.net/news/articleView.html?idxno=33511\n"
     ]
    }
   ],
   "source": [
    "# 링크\n",
    "links = browser.find_elements(By.CLASS_NAME, 'WlydOe')\n",
    "for i in links:\n",
    "    print(i.get_attribute('href'))"
   ]
  },
  {
   "cell_type": "code",
   "execution_count": 81,
   "metadata": {},
   "outputs": [],
   "source": [
    "# 더 효율적인 방법\n",
    "\n",
    "containers = browser.find_elements(By.CLASS_NAME, 'SoaBEf')\n",
    "\n",
    "\n",
    "title_list = []\n",
    "content_list=[]\n",
    "link_list=[]\n",
    "\n",
    "for elem in containers:\n",
    "    title = elem.find_element(By.CLASS_NAME,'n0jPhd').text\n",
    "    content = elem.find_element(By.CLASS_NAME, 'GI74Re').text\n",
    "    link = elem.find_element(By.CLASS_NAME, 'WlydOe').get_attribute('href')\n",
    "\n",
    "    title_list.append(title)\n",
    "    content_list.append(content)\n",
    "    link_list.append(link)\n"
   ]
  },
  {
   "cell_type": "code",
   "execution_count": 74,
   "metadata": {},
   "outputs": [
    {
     "name": "stdout",
     "output_type": "stream",
     "text": [
      "Collecting pandas\n",
      "  Downloading pandas-2.0.2-cp310-cp310-win_amd64.whl (10.7 MB)\n",
      "     ---------------------------------------- 0.0/10.7 MB ? eta -:--:--\n",
      "      --------------------------------------- 0.2/10.7 MB 5.9 MB/s eta 0:00:02\n",
      "     - -------------------------------------- 0.4/10.7 MB 6.9 MB/s eta 0:00:02\n",
      "     --- ------------------------------------ 0.8/10.7 MB 7.6 MB/s eta 0:00:02\n",
      "     ---- ----------------------------------- 1.2/10.7 MB 7.6 MB/s eta 0:00:02\n",
      "     ------ --------------------------------- 1.6/10.7 MB 8.8 MB/s eta 0:00:02\n",
      "     ------- -------------------------------- 2.1/10.7 MB 9.0 MB/s eta 0:00:01\n",
      "     -------- ------------------------------- 2.4/10.7 MB 8.4 MB/s eta 0:00:01\n",
      "     ---------- ----------------------------- 2.8/10.7 MB 8.5 MB/s eta 0:00:01\n",
      "     ----------- ---------------------------- 3.1/10.7 MB 8.7 MB/s eta 0:00:01\n",
      "     ------------- -------------------------- 3.5/10.7 MB 8.5 MB/s eta 0:00:01\n",
      "     -------------- ------------------------- 3.9/10.7 MB 8.6 MB/s eta 0:00:01\n",
      "     ---------------- ----------------------- 4.4/10.7 MB 8.7 MB/s eta 0:00:01\n",
      "     ----------------- ---------------------- 4.7/10.7 MB 8.8 MB/s eta 0:00:01\n",
      "     ------------------ --------------------- 5.0/10.7 MB 8.7 MB/s eta 0:00:01\n",
      "     -------------------- ------------------- 5.5/10.7 MB 8.6 MB/s eta 0:00:01\n",
      "     --------------------- ------------------ 5.8/10.7 MB 8.7 MB/s eta 0:00:01\n",
      "     ----------------------- ---------------- 6.2/10.7 MB 8.6 MB/s eta 0:00:01\n",
      "     ------------------------ --------------- 6.6/10.7 MB 8.8 MB/s eta 0:00:01\n",
      "     -------------------------- ------------- 6.9/10.7 MB 8.5 MB/s eta 0:00:01\n",
      "     --------------------------- ------------ 7.3/10.7 MB 8.5 MB/s eta 0:00:01\n",
      "     ---------------------------- ----------- 7.6/10.7 MB 8.4 MB/s eta 0:00:01\n",
      "     ------------------------------ --------- 8.1/10.7 MB 8.6 MB/s eta 0:00:01\n",
      "     ------------------------------- -------- 8.4/10.7 MB 8.5 MB/s eta 0:00:01\n",
      "     -------------------------------- ------- 8.6/10.7 MB 8.3 MB/s eta 0:00:01\n",
      "     --------------------------------- ------ 8.9/10.7 MB 8.4 MB/s eta 0:00:01\n",
      "     ---------------------------------- ----- 9.3/10.7 MB 8.4 MB/s eta 0:00:01\n",
      "     ------------------------------------ --- 9.6/10.7 MB 8.3 MB/s eta 0:00:01\n",
      "     ------------------------------------- -- 10.0/10.7 MB 8.4 MB/s eta 0:00:01\n",
      "     -------------------------------------- - 10.3/10.7 MB 8.4 MB/s eta 0:00:01\n",
      "     ---------------------------------------  10.6/10.7 MB 8.4 MB/s eta 0:00:01\n",
      "     ---------------------------------------- 10.7/10.7 MB 8.1 MB/s eta 0:00:00\n",
      "Requirement already satisfied: python-dateutil>=2.8.2 in c:\\users\\angle\\appdata\\roaming\\python\\python310\\site-packages (from pandas) (2.8.2)\n",
      "Collecting tzdata>=2022.1\n",
      "  Downloading tzdata-2023.3-py2.py3-none-any.whl (341 kB)\n",
      "     ---------------------------------------- 0.0/341.8 kB ? eta -:--:--\n",
      "     ------------------------------------- 341.8/341.8 kB 10.7 MB/s eta 0:00:00\n",
      "Collecting numpy>=1.21.0\n",
      "  Downloading numpy-1.25.0-cp310-cp310-win_amd64.whl (15.0 MB)\n",
      "     ---------------------------------------- 0.0/15.0 MB ? eta -:--:--\n",
      "      --------------------------------------- 0.2/15.0 MB ? eta -:--:--\n",
      "     - -------------------------------------- 0.5/15.0 MB 7.9 MB/s eta 0:00:02\n",
      "     - -------------------------------------- 0.7/15.0 MB 6.6 MB/s eta 0:00:03\n",
      "     -- ------------------------------------- 1.1/15.0 MB 6.1 MB/s eta 0:00:03\n",
      "     --- ------------------------------------ 1.2/15.0 MB 6.0 MB/s eta 0:00:03\n",
      "     --- ------------------------------------ 1.5/15.0 MB 6.3 MB/s eta 0:00:03\n",
      "     ---- ----------------------------------- 1.9/15.0 MB 6.6 MB/s eta 0:00:03\n",
      "     ----- ---------------------------------- 2.2/15.0 MB 6.9 MB/s eta 0:00:02\n",
      "     ------ --------------------------------- 2.6/15.0 MB 7.2 MB/s eta 0:00:02\n",
      "     ------- -------------------------------- 2.9/15.0 MB 7.1 MB/s eta 0:00:02\n",
      "     -------- ------------------------------- 3.4/15.0 MB 7.4 MB/s eta 0:00:02\n",
      "     --------- ------------------------------ 3.6/15.0 MB 7.2 MB/s eta 0:00:02\n",
      "     ---------- ----------------------------- 3.9/15.0 MB 7.1 MB/s eta 0:00:02\n",
      "     ---------- ----------------------------- 4.1/15.0 MB 7.1 MB/s eta 0:00:02\n",
      "     ----------- ---------------------------- 4.5/15.0 MB 7.1 MB/s eta 0:00:02\n",
      "     ------------ --------------------------- 4.8/15.0 MB 7.2 MB/s eta 0:00:02\n",
      "     ------------- -------------------------- 5.1/15.0 MB 7.1 MB/s eta 0:00:02\n",
      "     ------------- -------------------------- 5.2/15.0 MB 7.1 MB/s eta 0:00:02\n",
      "     ------------- -------------------------- 5.2/15.0 MB 7.1 MB/s eta 0:00:02\n",
      "     ------------- -------------------------- 5.2/15.0 MB 7.1 MB/s eta 0:00:02\n",
      "     ------------- -------------------------- 5.2/15.0 MB 7.1 MB/s eta 0:00:02\n",
      "     ------------- -------------------------- 5.2/15.0 MB 7.1 MB/s eta 0:00:02\n",
      "     --------------- ------------------------ 5.7/15.0 MB 5.8 MB/s eta 0:00:02\n",
      "     --------------- ------------------------ 6.0/15.0 MB 5.8 MB/s eta 0:00:02\n",
      "     ---------------- ----------------------- 6.3/15.0 MB 5.8 MB/s eta 0:00:02\n",
      "     ----------------- ---------------------- 6.6/15.0 MB 5.9 MB/s eta 0:00:02\n",
      "     ------------------ --------------------- 6.9/15.0 MB 5.9 MB/s eta 0:00:02\n",
      "     ------------------- -------------------- 7.2/15.0 MB 6.1 MB/s eta 0:00:02\n",
      "     -------------------- ------------------- 7.6/15.0 MB 6.2 MB/s eta 0:00:02\n",
      "     --------------------- ------------------ 7.9/15.0 MB 6.2 MB/s eta 0:00:02\n",
      "     ---------------------- ----------------- 8.3/15.0 MB 6.3 MB/s eta 0:00:02\n",
      "     ----------------------- ---------------- 8.8/15.0 MB 6.4 MB/s eta 0:00:01\n",
      "     ------------------------ --------------- 9.1/15.0 MB 6.4 MB/s eta 0:00:01\n",
      "     ------------------------ --------------- 9.3/15.0 MB 6.4 MB/s eta 0:00:01\n",
      "     ------------------------- -------------- 9.5/15.0 MB 6.4 MB/s eta 0:00:01\n",
      "     -------------------------- ------------- 9.8/15.0 MB 6.4 MB/s eta 0:00:01\n",
      "     -------------------------- ------------- 10.1/15.0 MB 6.5 MB/s eta 0:00:01\n",
      "     ---------------------------- ----------- 10.6/15.0 MB 6.5 MB/s eta 0:00:01\n",
      "     ----------------------------- ---------- 10.9/15.0 MB 6.5 MB/s eta 0:00:01\n",
      "     ----------------------------- ---------- 11.3/15.0 MB 6.6 MB/s eta 0:00:01\n",
      "     ------------------------------ --------- 11.4/15.0 MB 6.5 MB/s eta 0:00:01\n",
      "     ------------------------------- -------- 11.8/15.0 MB 6.6 MB/s eta 0:00:01\n",
      "     -------------------------------- ------- 12.2/15.0 MB 6.5 MB/s eta 0:00:01\n",
      "     --------------------------------- ------ 12.6/15.0 MB 6.7 MB/s eta 0:00:01\n",
      "     ---------------------------------- ----- 12.9/15.0 MB 6.7 MB/s eta 0:00:01\n",
      "     ----------------------------------- ---- 13.3/15.0 MB 6.7 MB/s eta 0:00:01\n",
      "     ------------------------------------ --- 13.7/15.0 MB 6.7 MB/s eta 0:00:01\n",
      "     ------------------------------------- -- 14.0/15.0 MB 6.8 MB/s eta 0:00:01\n",
      "     -------------------------------------- - 14.4/15.0 MB 6.8 MB/s eta 0:00:01\n",
      "     -------------------------------------- - 14.6/15.0 MB 6.7 MB/s eta 0:00:01\n",
      "     ---------------------------------------  14.9/15.0 MB 6.8 MB/s eta 0:00:01\n",
      "     ---------------------------------------  15.0/15.0 MB 6.7 MB/s eta 0:00:01\n",
      "     ---------------------------------------- 15.0/15.0 MB 6.4 MB/s eta 0:00:00\n",
      "Collecting pytz>=2020.1\n",
      "  Downloading pytz-2023.3-py2.py3-none-any.whl (502 kB)\n",
      "     ---------------------------------------- 0.0/502.3 kB ? eta -:--:--\n",
      "     ----------------------- -------------- 307.2/502.3 kB 9.6 MB/s eta 0:00:01\n",
      "     -------------------------------------  501.8/502.3 kB 7.9 MB/s eta 0:00:01\n",
      "     -------------------------------------- 502.3/502.3 kB 5.2 MB/s eta 0:00:00\n",
      "Requirement already satisfied: six>=1.5 in c:\\users\\angle\\appdata\\roaming\\python\\python310\\site-packages (from python-dateutil>=2.8.2->pandas) (1.16.0)\n",
      "Installing collected packages: pytz, tzdata, numpy, pandas\n",
      "Successfully installed numpy-1.25.0 pandas-2.0.2 pytz-2023.3 tzdata-2023.3\n",
      "Note: you may need to restart the kernel to use updated packages.\n"
     ]
    },
    {
     "name": "stderr",
     "output_type": "stream",
     "text": [
      "\n",
      "[notice] A new release of pip is available: 23.0.1 -> 23.1.2\n",
      "[notice] To update, run: python.exe -m pip install --upgrade pip\n"
     ]
    }
   ],
   "source": [
    "%pip install pandas"
   ]
  },
  {
   "cell_type": "code",
   "execution_count": 82,
   "metadata": {},
   "outputs": [],
   "source": [
    "import pandas as pd"
   ]
  },
  {
   "cell_type": "code",
   "execution_count": 86,
   "metadata": {},
   "outputs": [
    {
     "data": {
      "text/html": [
       "<div>\n",
       "<style scoped>\n",
       "    .dataframe tbody tr th:only-of-type {\n",
       "        vertical-align: middle;\n",
       "    }\n",
       "\n",
       "    .dataframe tbody tr th {\n",
       "        vertical-align: top;\n",
       "    }\n",
       "\n",
       "    .dataframe thead th {\n",
       "        text-align: right;\n",
       "    }\n",
       "</style>\n",
       "<table border=\"1\" class=\"dataframe\">\n",
       "  <thead>\n",
       "    <tr style=\"text-align: right;\">\n",
       "      <th></th>\n",
       "      <th>제목</th>\n",
       "      <th>내용</th>\n",
       "      <th>링크</th>\n",
       "    </tr>\n",
       "  </thead>\n",
       "  <tbody>\n",
       "    <tr>\n",
       "      <th>0</th>\n",
       "      <td>뉴로메카-원익로보틱스, 로봇 자동화 개발 맞손</td>\n",
       "      <td>협동로봇 제조기업 뉴로메카가 19일 원익로보틱스와 판교 원익빌딩에서 로봇·자동화 개...</td>\n",
       "      <td>https://zdnet.co.kr/view/?no=20230620104928</td>\n",
       "    </tr>\n",
       "    <tr>\n",
       "      <th>1</th>\n",
       "      <td>에스피시스템스, 66억 규모 로봇 자동화 시스템 공급계약</td>\n",
       "      <td>[서울=뉴시스] 김경택 기자 = 에스피시스템스는 코넥과 66억원 규모의 산업용 로봇...</td>\n",
       "      <td>https://www.fnnews.com/news/202306211143537130</td>\n",
       "    </tr>\n",
       "    <tr>\n",
       "      <th>2</th>\n",
       "      <td>뉴로메카-원익로보틱스, '혁신 로봇·자동화 기술 고도화' 맞손</td>\n",
       "      <td>뉴로메카는 원익로보틱스와 최근 판교 원익빌딩에서 '로봇·자동화 개발 사업 추진'을 ...</td>\n",
       "      <td>https://www.etnews.com/20230621000154</td>\n",
       "    </tr>\n",
       "    <tr>\n",
       "      <th>3</th>\n",
       "      <td>[2023 AMWC] 자동화에서 자율화로… 디지털 트윈 통한 제조 최적화 구현</td>\n",
       "      <td>[인더스트리뉴스 이건오 기자] 카이스트 장영재 교수가 6월 20일 서울 코엑스(CO...</td>\n",
       "      <td>http://www.industrynews.co.kr/news/articleView...</td>\n",
       "    </tr>\n",
       "    <tr>\n",
       "      <th>4</th>\n",
       "      <td>이노버스, 과기부 장관 표창… AIoT 기술 통한 재활용 시스템 자동화 공로</td>\n",
       "      <td>[일간투데이 한지연 기자] 환경 엔지니어링 기업 주식회사 이노버스(대표 장진혁)가 ...</td>\n",
       "      <td>http://www.dtoday.co.kr/news/articleView.html?...</td>\n",
       "    </tr>\n",
       "    <tr>\n",
       "      <th>5</th>\n",
       "      <td>빅데이터·AI 시대 회계감사…전수 조사·자동화 등</td>\n",
       "      <td>한국공인회계사회 회계현안 세미나 '빅데이터와 AI시대 회계감사' 4대 회계법인 활용...</td>\n",
       "      <td>https://www.dnews.co.kr/uhtml/view.jsp?idxno=2...</td>\n",
       "    </tr>\n",
       "    <tr>\n",
       "      <th>6</th>\n",
       "      <td>FPT 소프트웨어 코리아 '코리아 노코드·로우코드 자동화 임팩트 2023' 참여</td>\n",
       "      <td>코리아 노코드·로우코드 자동화 임팩트 2023', 21일 한국과학기술회관에서 개최....</td>\n",
       "      <td>https://www.newswire.co.kr/newsRead.php?no=969052</td>\n",
       "    </tr>\n",
       "    <tr>\n",
       "      <th>7</th>\n",
       "      <td>뉴로메카-원익로보틱스, 로봇 자동화 개발 사업 협력</td>\n",
       "      <td>원익로보틱스와 뉴로메카는 로봇 및 자동화 개발 사업 추진을 위한 상호 협력에 대한 ...</td>\n",
       "      <td>http://www.irobotnews.com/news/articleView.htm...</td>\n",
       "    </tr>\n",
       "    <tr>\n",
       "      <th>8</th>\n",
       "      <td>에스피시스템스, 66억 규모 로봇 자동화 시스템 공급 계약[주목 e공시]</td>\n",
       "      <td>는 코넥과 66억원 규모의 산업용 로봇 자동화 시스템 공급계약을 체결했다고 21일 ...</td>\n",
       "      <td>https://www.hankyung.com/finance/article/20230...</td>\n",
       "    </tr>\n",
       "    <tr>\n",
       "      <th>9</th>\n",
       "      <td>파씨온택, 자동화 기술 솔루션 공급업체로 '우뚝'</td>\n",
       "      <td>업력 3년이 채 되지 않은 자동화기기 부품ㆍ기술 제공기업 ㈜파씨온택이 자동화ㆍ전력기...</td>\n",
       "      <td>https://www.eroun.net/news/articleView.html?id...</td>\n",
       "    </tr>\n",
       "  </tbody>\n",
       "</table>\n",
       "</div>"
      ],
      "text/plain": [
       "                                             제목  \\\n",
       "0                     뉴로메카-원익로보틱스, 로봇 자동화 개발 맞손   \n",
       "1               에스피시스템스, 66억 규모 로봇 자동화 시스템 공급계약   \n",
       "2            뉴로메카-원익로보틱스, '혁신 로봇·자동화 기술 고도화' 맞손   \n",
       "3   [2023 AMWC] 자동화에서 자율화로… 디지털 트윈 통한 제조 최적화 구현   \n",
       "4    이노버스, 과기부 장관 표창… AIoT 기술 통한 재활용 시스템 자동화 공로   \n",
       "5                   빅데이터·AI 시대 회계감사…전수 조사·자동화 등   \n",
       "6  FPT 소프트웨어 코리아 '코리아 노코드·로우코드 자동화 임팩트 2023' 참여   \n",
       "7                  뉴로메카-원익로보틱스, 로봇 자동화 개발 사업 협력   \n",
       "8      에스피시스템스, 66억 규모 로봇 자동화 시스템 공급 계약[주목 e공시]   \n",
       "9                   파씨온택, 자동화 기술 솔루션 공급업체로 '우뚝'   \n",
       "\n",
       "                                                  내용  \\\n",
       "0  협동로봇 제조기업 뉴로메카가 19일 원익로보틱스와 판교 원익빌딩에서 로봇·자동화 개...   \n",
       "1  [서울=뉴시스] 김경택 기자 = 에스피시스템스는 코넥과 66억원 규모의 산업용 로봇...   \n",
       "2  뉴로메카는 원익로보틱스와 최근 판교 원익빌딩에서 '로봇·자동화 개발 사업 추진'을 ...   \n",
       "3  [인더스트리뉴스 이건오 기자] 카이스트 장영재 교수가 6월 20일 서울 코엑스(CO...   \n",
       "4  [일간투데이 한지연 기자] 환경 엔지니어링 기업 주식회사 이노버스(대표 장진혁)가 ...   \n",
       "5  한국공인회계사회 회계현안 세미나 '빅데이터와 AI시대 회계감사' 4대 회계법인 활용...   \n",
       "6  코리아 노코드·로우코드 자동화 임팩트 2023', 21일 한국과학기술회관에서 개최....   \n",
       "7  원익로보틱스와 뉴로메카는 로봇 및 자동화 개발 사업 추진을 위한 상호 협력에 대한 ...   \n",
       "8  는 코넥과 66억원 규모의 산업용 로봇 자동화 시스템 공급계약을 체결했다고 21일 ...   \n",
       "9  업력 3년이 채 되지 않은 자동화기기 부품ㆍ기술 제공기업 ㈜파씨온택이 자동화ㆍ전력기...   \n",
       "\n",
       "                                                  링크  \n",
       "0        https://zdnet.co.kr/view/?no=20230620104928  \n",
       "1     https://www.fnnews.com/news/202306211143537130  \n",
       "2              https://www.etnews.com/20230621000154  \n",
       "3  http://www.industrynews.co.kr/news/articleView...  \n",
       "4  http://www.dtoday.co.kr/news/articleView.html?...  \n",
       "5  https://www.dnews.co.kr/uhtml/view.jsp?idxno=2...  \n",
       "6  https://www.newswire.co.kr/newsRead.php?no=969052  \n",
       "7  http://www.irobotnews.com/news/articleView.htm...  \n",
       "8  https://www.hankyung.com/finance/article/20230...  \n",
       "9  https://www.eroun.net/news/articleView.html?id...  "
      ]
     },
     "execution_count": 86,
     "metadata": {},
     "output_type": "execute_result"
    }
   ],
   "source": [
    "data = {\n",
    "    \"제목\" : title_list,\n",
    "    \"내용\" : content_list,\n",
    "    \"링크\" : link_list\n",
    "}\n",
    "\n",
    "df = pd.DataFrame(data)\n",
    "df\n",
    "\n",
    "# df.to_csv(\"구글 뉴스 크롤링.csv\")   제목 지정"
   ]
  },
  {
   "cell_type": "code",
   "execution_count": null,
   "metadata": {},
   "outputs": [],
   "source": []
  }
 ],
 "metadata": {
  "kernelspec": {
   "display_name": "Python 3",
   "language": "python",
   "name": "python3"
  },
  "language_info": {
   "codemirror_mode": {
    "name": "ipython",
    "version": 3
   },
   "file_extension": ".py",
   "mimetype": "text/x-python",
   "name": "python",
   "nbconvert_exporter": "python",
   "pygments_lexer": "ipython3",
   "version": "3.10.11"
  },
  "orig_nbformat": 4
 },
 "nbformat": 4,
 "nbformat_minor": 2
}
