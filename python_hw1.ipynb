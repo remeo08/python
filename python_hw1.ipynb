{
 "cells": [
  {
   "cell_type": "code",
   "execution_count": 1,
   "metadata": {},
   "outputs": [
    {
     "name": "stdout",
     "output_type": "stream",
     "text": [
      "2\n",
      "4\n",
      "6\n",
      "8\n",
      "10\n"
     ]
    }
   ],
   "source": [
    "# 1부터 10까지의 정수 중에서 짝수만 출력\n",
    "for i in range(1, 11):\n",
    "    if i % 2 == 0:\n",
    "        print(i)"
   ]
  },
  {
   "cell_type": "code",
   "execution_count": 2,
   "metadata": {},
   "outputs": [
    {
     "name": "stdout",
     "output_type": "stream",
     "text": [
      "0입니다.\n"
     ]
    }
   ],
   "source": [
    "# 사용자로부터 입력받은 숫자가 양수인지 음수인지 출력\n",
    "num = int(input(\"숫자를 입력하세요: \"))\n",
    "if num > 0:\n",
    "    print(\"양수\")\n",
    "elif num < 0:\n",
    "    print(\"음수\")\n",
    "else:\n",
    "    print(\"0입니다.\")"
   ]
  },
  {
   "cell_type": "code",
   "execution_count": 4,
   "metadata": {},
   "outputs": [
    {
     "name": "stdout",
     "output_type": "stream",
     "text": [
      "5 x 1 = 5\n",
      "5 x 2 = 10\n",
      "5 x 3 = 15\n",
      "5 x 4 = 20\n",
      "5 x 5 = 25\n",
      "5 x 6 = 30\n",
      "5 x 7 = 35\n",
      "5 x 8 = 40\n",
      "5 x 9 = 45\n",
      "5 x 10 = 50\n",
      "5 x 11 = 55\n",
      "5 x 12 = 60\n"
     ]
    }
   ],
   "source": [
    "# 사용자로부터 입력받은 숫자의 구구단을 출력\n",
    "num = int(input(\"숫자를 입력하세요: \"))\n",
    "for i in range(1, 13):\n",
    "    print(num, 'x', i, '=', num*i)"
   ]
  },
  {
   "cell_type": "code",
   "execution_count": 6,
   "metadata": {},
   "outputs": [
    {
     "name": "stdout",
     "output_type": "stream",
     "text": [
      "315\n"
     ]
    }
   ],
   "source": [
    "# 1부터 100까지의 정수 중에서 3의 배수이면서 5의 배수인 정수의 합\n",
    "result = 0\n",
    "for i in range(1, 101):\n",
    "    if i % 3 == 0 and i % 5 == 0:\n",
    "        result += i\n",
    "print(result)"
   ]
  },
  {
   "cell_type": "code",
   "execution_count": null,
   "metadata": {},
   "outputs": [],
   "source": [
    "# 사용자로부터 n개의 정수를 입력받아, 이 중에서 가장 큰 값과 가장 작은 값\n",
    "\n",
    "# 내 풀이\n",
    "num = [int(x) for x in input().split()]\n",
    "num.sort()\n",
    "print(num[0], num[-1])"
   ]
  },
  {
   "cell_type": "code",
   "execution_count": 2,
   "metadata": {},
   "outputs": [
    {
     "name": "stdout",
     "output_type": "stream",
     "text": [
      "[1, 7]\n",
      "최솟값은 : 1\n",
      "최댓값은 : 7\n"
     ]
    }
   ],
   "source": [
    "# 사용자로부터 n개의 정수를 입력받아, 이 중에서 가장 큰 값과 가장 작은 값\n",
    "\n",
    "# 해설\n",
    "user_input = int(input(\"정수를 여러 개 입력하세요.\"))\n",
    "user_input_list = []\n",
    "for i in range(user_input):\n",
    "    number = int(input(\"숫자를 입력하세요: \"))\n",
    "    user_input_list.append(number)\n",
    "\n",
    "print(user_input_list)\n",
    "\n",
    "min_value = user_input_list[0]\n",
    "max_value = user_input_list[0]\n",
    "\n",
    "for i in user_input_list:\n",
    "    if i < min_value:\n",
    "        min_value = i\n",
    "\n",
    "    if i > max_value:\n",
    "        max_value = i\n",
    "\n",
    "print(\"최솟값은 : {}\".format(min_value))\n",
    "print(\"최댓값은 : {}\".format(max_value))\n",
    "\n"
   ]
  },
  {
   "cell_type": "code",
   "execution_count": 4,
   "metadata": {},
   "outputs": [],
   "source": [
    "# 감소하는 별 찍기\n",
    "\n",
    "# 내 풀이\n",
    "a = int(input())\n",
    "\n",
    "for i in range(a, 0, -1):\n",
    "    for j in range(i):\n",
    "        print('*', end='')    \n",
    "    print()\n",
    "\n",
    "\n",
    "# 해설\n",
    "for i in range(5, 0, -1):\n",
    "    print('*'*i)"
   ]
  },
  {
   "cell_type": "code",
   "execution_count": 1,
   "metadata": {},
   "outputs": [
    {
     "ename": "SyntaxError",
     "evalue": "unterminated string literal (detected at line 22) (3220247052.py, line 22)",
     "output_type": "error",
     "traceback": [
      "\u001b[1;36m  Cell \u001b[1;32mIn[1], line 22\u001b[1;36m\u001b[0m\n\u001b[1;33m    print(' ' * (4 - i)+ *' * (2*i - 1))\u001b[0m\n\u001b[1;37m                          ^\u001b[0m\n\u001b[1;31mSyntaxError\u001b[0m\u001b[1;31m:\u001b[0m unterminated string literal (detected at line 22)\n"
     ]
    }
   ],
   "source": [
    "# 산 모양 별 찍기\n",
    "a = int(input())\n",
    "\n",
    "for i in range(a, 0, -1):\n",
    "    for j in range(i):\n",
    "        print(' ', end='')\n",
    "          \n",
    "        print('*'*(2*a-1), end='')  \n",
    "    print()\n",
    "\n",
    "for i in range(1, a+1):\n",
    "    for j in range(2*i-1):\n",
    "#        if :\n",
    "#            print(' ', end='')\n",
    "#        else:\n",
    "            print('*', end='')\n",
    "    print()\n",
    "\n",
    "\n",
    "# 해설\n",
    "for i in range(1, 5):\n",
    "     print(' ' * (4 - i)+ '*' * (2*i - 1))"
   ]
  },
  {
   "cell_type": "code",
   "execution_count": 2,
   "metadata": {},
   "outputs": [
    {
     "name": "stdout",
     "output_type": "stream",
     "text": [
      "*****\n",
      " ***\n",
      "  *\n"
     ]
    }
   ],
   "source": [
    "for i in range(3):\n",
    "    print(\" \" * i + \"*\" * (5 - 2*i))"
   ]
  },
  {
   "cell_type": "code",
   "execution_count": 5,
   "metadata": {},
   "outputs": [
    {
     "name": "stdout",
     "output_type": "stream",
     "text": [
      "*********\n",
      " *******\n",
      "  *****\n",
      "   ***\n",
      "    *\n",
      "   ***\n",
      "  *****\n",
      " *******\n",
      "*********\n"
     ]
    }
   ],
   "source": [
    "# 모래시계\n",
    "\n",
    "for i in range(1, 6):\n",
    "    print(\" \" * (i - 1) + \"*\" * (11 - 2*i))\n",
    "\n",
    "for i in range(2, 6):\n",
    "    print(\" \" *(5-i) + \"*\" * (2*i - 1))"
   ]
  },
  {
   "cell_type": "code",
   "execution_count": null,
   "metadata": {},
   "outputs": [],
   "source": []
  }
 ],
 "metadata": {
  "kernelspec": {
   "display_name": "Python 3",
   "language": "python",
   "name": "python3"
  },
  "language_info": {
   "codemirror_mode": {
    "name": "ipython",
    "version": 3
   },
   "file_extension": ".py",
   "mimetype": "text/x-python",
   "name": "python",
   "nbconvert_exporter": "python",
   "pygments_lexer": "ipython3",
   "version": "3.10.11"
  },
  "orig_nbformat": 4
 },
 "nbformat": 4,
 "nbformat_minor": 2
}
