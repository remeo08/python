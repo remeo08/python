{
 "cells": [
  {
   "attachments": {},
   "cell_type": "markdown",
   "metadata": {},
   "source": [
    "## 엑셀 자동화\n",
    "\n",
    "- openpyxl 라이브러리"
   ]
  },
  {
   "cell_type": "code",
   "execution_count": 1,
   "metadata": {},
   "outputs": [
    {
     "name": "stdout",
     "output_type": "stream",
     "text": [
      "Requirement already satisfied: openpyxl in c:\\users\\angle\\appdata\\local\\programs\\python\\python310\\lib\\site-packages (3.1.2)\n",
      "Requirement already satisfied: et-xmlfile in c:\\users\\angle\\appdata\\local\\programs\\python\\python310\\lib\\site-packages (from openpyxl) (1.1.0)\n",
      "Note: you may need to restart the kernel to use updated packages.\n"
     ]
    },
    {
     "name": "stderr",
     "output_type": "stream",
     "text": [
      "\n",
      "[notice] A new release of pip is available: 23.0.1 -> 23.1.2\n",
      "[notice] To update, run: python.exe -m pip install --upgrade pip\n"
     ]
    }
   ],
   "source": [
    "%pip install openpyxl"
   ]
  },
  {
   "cell_type": "code",
   "execution_count": 2,
   "metadata": {},
   "outputs": [],
   "source": [
    "import openpyxl"
   ]
  },
  {
   "cell_type": "code",
   "execution_count": 26,
   "metadata": {},
   "outputs": [],
   "source": [
    "# 엑셀 파일 생성\n",
    "\n",
    "wb = openpyxl.Workbook() #워크북 생성\n",
    "ws = wb.active # 워크시트 활성화\n",
    "\n",
    "ws.title =\"Info\"\n",
    "\n",
    "ws.append([1,2,3,4,5])\n",
    "ws.append([1,2,3,4,5])\n",
    "ws.append([1,2,3,4,5])\n",
    "ws.append([1,2,3,4,5])\n",
    "ws.append([1,2,3,4,5])\n",
    "\n",
    "ws.merge_cells(\"A1:D1\")\n",
    "ws.insert_rows(3)  # 3행에 행추가\n",
    "ws.insert_rows(3)  # 3행에 행추가\n",
    "ws.insert_rows(3)  # 3행에 행추가\n",
    "\n",
    "wb.save(\"test.xlsx\")"
   ]
  },
  {
   "cell_type": "code",
   "execution_count": 32,
   "metadata": {},
   "outputs": [
    {
     "name": "stdout",
     "output_type": "stream",
     "text": [
      "5\n"
     ]
    }
   ],
   "source": [
    "# 엑셀 파일 로드\n",
    "\n",
    "workbook = openpyxl.load_workbook(\"test.xlsx\")\n",
    "\n",
    "worksheet = workbook[\"Info\"]\n",
    "\n",
    "# 좌표로 값을 가져오는 방법\n",
    "worksheet.cell(5, 1).value\n",
    "\n",
    "# 고유값을 통해서 데이터를 가져오는 방법\n",
    "worksheet[\"B2\"].value\n",
    "\n",
    "# 해당 시트의 최대 행 번호\n",
    "worksheet.max_row\n",
    "\n",
    "# 해당 시트의 최대 열 번호\n",
    "worksheet.max_column\n",
    "\n",
    "# 값 변경\n",
    "worksheet[\"D7\"] = \"비고\"  # 저장되지 않음\n",
    "\n",
    "workbook.save(\"test_final.xlsx\")"
   ]
  },
  {
   "cell_type": "code",
   "execution_count": 52,
   "metadata": {},
   "outputs": [
    {
     "name": "stdout",
     "output_type": "stream",
     "text": [
      "4\n"
     ]
    },
    {
     "ename": "TypeError",
     "evalue": "'>=' not supported between instances of 'str' and 'int'",
     "output_type": "error",
     "traceback": [
      "\u001b[1;31m---------------------------------------------------------------------------\u001b[0m",
      "\u001b[1;31mTypeError\u001b[0m                                 Traceback (most recent call last)",
      "Cell \u001b[1;32mIn[52], line 24\u001b[0m\n\u001b[0;32m     22\u001b[0m \u001b[39mfor\u001b[39;00m cell \u001b[39min\u001b[39;00m col_c:\n\u001b[0;32m     23\u001b[0m     time \u001b[39m=\u001b[39m cell\u001b[39m.\u001b[39mvalue\n\u001b[1;32m---> 24\u001b[0m     \u001b[39mif\u001b[39;00m time \u001b[39m>\u001b[39;49m\u001b[39m=\u001b[39;49m \u001b[39m45\u001b[39;49m:\n\u001b[0;32m     25\u001b[0m         worksheet\u001b[39m.\u001b[39mappend(\u001b[39m'\u001b[39m\u001b[39m출석\u001b[39m\u001b[39m'\u001b[39m)\n\u001b[0;32m     26\u001b[0m     \u001b[39melif\u001b[39;00m time \u001b[39m>\u001b[39m\u001b[39m=\u001b[39m \u001b[39m15\u001b[39m:\n",
      "\u001b[1;31mTypeError\u001b[0m: '>=' not supported between instances of 'str' and 'int'"
     ]
    }
   ],
   "source": [
    "# 출결 여부\n",
    "# - 45분 이상 출석\n",
    "# - 15분 이상 지각\n",
    "# - 그 외는 모두 결석\n",
    "# 저장명 : 오늘 날짜 기준으로(2023-06-22.xlsx)\n",
    "# hint\n",
    "# for i in range(10):\n",
    "#     print(\"A\"+str(i))\n",
    "\n",
    "workbook = openpyxl.load_workbook(\"zoom.xlsx\")\n",
    "ws = workbook.active\n",
    "\n",
    "ws.title =\"Sheet\"\n",
    "worksheet = workbook[\"Sheet\"]\n",
    "\n",
    "print(worksheet.max_column)\n",
    "worksheet.insert_cols(5)\n",
    "worksheet[\"E1\"] = \"출결여부\"\n",
    "workbook.save(\".xlsx\")\n",
    "\n",
    "col_c = ws[\"C\"]\n",
    "for cell in col_c:\n",
    "    time = cell.value\n",
    "    if time >= 45:\n",
    "        worksheet.append('출석')\n",
    "    elif time >= 15:\n",
    "        worksheet.append('지각')\n",
    "    else:\n",
    "        worksheet.append('결석')\n",
    "\n",
    "\n",
    "\n"
   ]
  },
  {
   "cell_type": "code",
   "execution_count": 76,
   "metadata": {},
   "outputs": [],
   "source": [
    "# 해설\n",
    "\n",
    "wb = openpyxl.load_workbook(\"zoom.xlsx\")\n",
    "\n",
    "ws = wb[\"Sheet\"]\n",
    "\n",
    "ws.insert_cols(5)\n",
    "ws[\"E1\"] = \"출결여부\"\n",
    "\n",
    "for i in range(2, 31):\n",
    "    time = int(ws[\"C\"+str(i)].value)\n",
    "\n",
    "    attendance = \"\"\n",
    "\n",
    "    if time >= 45:\n",
    "        attendance = '출석'\n",
    "    elif time >= 15:\n",
    "        attendance = '지각'\n",
    "    else:\n",
    "        attendance = '결석'\n",
    "\n",
    "    ws[\"E\"+str(i)] = attendance\n",
    "\n",
    "\n",
    "from datetime import datetime\n",
    "today = datetime.today()\n",
    "today = today.strftime(\"%Y-%m-%d\")\n",
    "    \n",
    "wb.save(\"{}.xlsx\".format(today))\n",
    "\n"
   ]
  },
  {
   "cell_type": "code",
   "execution_count": 75,
   "metadata": {},
   "outputs": [
    {
     "data": {
      "text/plain": [
       "'2023-06-22'"
      ]
     },
     "execution_count": 75,
     "metadata": {},
     "output_type": "execute_result"
    }
   ],
   "source": [
    "from datetime import datetime\n",
    "today = datetime.today()\n",
    "\n",
    "today.strftime(\"%Y-%m-%d\")"
   ]
  },
  {
   "cell_type": "code",
   "execution_count": 22,
   "metadata": {},
   "outputs": [],
   "source": [
    "import openpyxl"
   ]
  },
  {
   "cell_type": "code",
   "execution_count": 25,
   "metadata": {},
   "outputs": [],
   "source": [
    "# (1) 기업 파일에서 배송 내역을 불러온다.\n",
    "wb_company = openpyxl.load_workbook(\"1.삼성전자.xlsx\")\n",
    "ws_company = wb_company[\"21.3월\"]\n",
    "\n",
    "# (2) 업체명, 업체번호 가져오기.\n",
    "company_name = ws_company[\"B2\"].value\n",
    "company_num = ws_company[\"F2\"].value\n",
    "\n",
    "# (3) 청구서 파일을 불러온다.\n",
    "wb_result = openpyxl.load_workbook(\"양식_청구서.xlsx\")\n",
    "ws_result = wb_result[\"Sheet1\"]\n",
    "\n",
    "# (4) 청구서 파일에 업체명과 업체번호 입력한다.\n",
    "ws_result[\"A2\"] = \"NO.\" + str(company_num)  # 업체 번호 입력\n",
    "ws_result[\"B4\"] = company_name\n",
    "\n",
    "# (5) 청구서_업체명.xlsx로 저장한다.\n",
    "wb_result.save(\"청구서_{}.xlsx\".format(company_name))\n"
   ]
  },
  {
   "cell_type": "code",
   "execution_count": 27,
   "metadata": {},
   "outputs": [
    {
     "name": "stdout",
     "output_type": "stream",
     "text": [
      "21.03.11(목)  27000.0 3\n",
      "21.03.12(금) 18000.0 2\n",
      "21.03.13(토) 43000.0 3\n",
      "21.03.14(일) 23000.0 2\n",
      "21.03.16(화) 27000.0 3\n",
      "21.03.17(수) 9000.0 1\n",
      "21.03.18(목) 29000.0 3\n",
      "21.03.19(금) 11000.0 1\n",
      "21.03.20(토) 13000.0 1\n",
      "21.03.21(일) 20000.0 2\n",
      "21.03.22(월) 11000.0 1\n",
      "21.03.24(수) 34000.0 2\n",
      "21.03.25(목) 50000.0 5\n",
      "21.03.26(금) 39000.0 3\n",
      "21.03.28(일) 24000.0 2\n",
      "21.03.29(월) 33200.0 3\n",
      "21.03.30(화) 29000.0 2\n",
      "21.03.31(수) 12000.0 1\n"
     ]
    }
   ],
   "source": [
    "# 신청날짜를 가져오기\n",
    "date_list = []\n",
    "\n",
    "for i in range(5,45):\n",
    "    date = ws_company['A'+str(i)].value\n",
    "    date_list.append(date)\n",
    "\n",
    "# set() : (1) 중복을 허용X (2) 순서를 보장X\n",
    "date_list = set(date_list)  # set에만 넣어줘도 중복값(=날짜) 없애준다\n",
    "\n",
    "start_number = 10\n",
    "for date in sorted(date_list):\n",
    "    # (1) date -> 청구서에 날짜로 들어간다.\n",
    "    ws_result[\"B\" + str(start_number)] = date\n",
    "\n",
    "    # (2) date -> 배송 건수 계산// for, if\n",
    "    date_num = []\n",
    "    total_price = 0\n",
    "\n",
    "    for i in range(5, 45):\n",
    "        cell_date = ws_company['A'+str(i)].value\n",
    "\n",
    "        if date == cell_date:\n",
    "            total_price += ws_company[\"F\" + str(i)].value\n",
    "            date_num.append(date)\n",
    "    \n",
    "    print(date, total_price, len(date_num))\n",
    "        \n",
    "    # 청구서에 개수 데이터를 넣는다.\n",
    "    ws_result[\"F\" + str(start_number)] = len(date_num)\n",
    "\n",
    "    # 청구서에 해당 날짜와 전체 금액을 넣는다.\n",
    "    ws_result[\"H\" + str(start_number)] = total_price\n",
    "    start_number += 1\n",
    "\n",
    "wb_result.save(\"청구서_{}.xlsx\".format(company_name))\n"
   ]
  },
  {
   "cell_type": "code",
   "execution_count": null,
   "metadata": {},
   "outputs": [],
   "source": []
  }
 ],
 "metadata": {
  "kernelspec": {
   "display_name": "Python 3",
   "language": "python",
   "name": "python3"
  },
  "language_info": {
   "codemirror_mode": {
    "name": "ipython",
    "version": 3
   },
   "file_extension": ".py",
   "mimetype": "text/x-python",
   "name": "python",
   "nbconvert_exporter": "python",
   "pygments_lexer": "ipython3",
   "version": "3.10.11"
  },
  "orig_nbformat": 4
 },
 "nbformat": 4,
 "nbformat_minor": 2
}
